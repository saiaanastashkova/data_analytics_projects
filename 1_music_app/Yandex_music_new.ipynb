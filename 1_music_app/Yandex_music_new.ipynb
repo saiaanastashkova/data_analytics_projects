{
 "cells": [
  {
   "cell_type": "markdown",
   "id": "97b0572c",
   "metadata": {
    "toc": true
   },
   "source": [
    "<h1>Table of Contents<span class=\"tocSkip\"></span></h1>\n",
    "<div class=\"toc\"><ul class=\"toc-item\"><li><span><a href=\"#Обзор-и-предобработка-данных\" data-toc-modified-id=\"Обзор-и-предобработка-данных-1\"><span class=\"toc-item-num\">1&nbsp;&nbsp;</span>Обзор и предобработка данных</a></span></li><li><span><a href=\"#Проверка-гипотез\" data-toc-modified-id=\"Проверка-гипотез-2\"><span class=\"toc-item-num\">2&nbsp;&nbsp;</span>Проверка гипотез</a></span><ul class=\"toc-item\"><li><span><a href=\"#Сравнение-поведения-пользователей-двух-столиц\" data-toc-modified-id=\"Сравнение-поведения-пользователей-двух-столиц-2.1\"><span class=\"toc-item-num\">2.1&nbsp;&nbsp;</span>Сравнение поведения пользователей двух столиц</a></span></li><li><span><a href=\"#Музыка-в-начале-и-в-конце-недели\" data-toc-modified-id=\"Музыка-в-начале-и-в-конце-недели-2.2\"><span class=\"toc-item-num\">2.2&nbsp;&nbsp;</span>Музыка в начале и в конце недели</a></span></li><li><span><a href=\"#Жанровые-предпочтения-в-Москве-и-Петербурге\" data-toc-modified-id=\"Жанровые-предпочтения-в-Москве-и-Петербурге-2.3\"><span class=\"toc-item-num\">2.3&nbsp;&nbsp;</span>Жанровые предпочтения в Москве и Петербурге</a></span></li></ul></li><li><span><a href=\"#Итоги-исследования\" data-toc-modified-id=\"Итоги-исследования-3\"><span class=\"toc-item-num\">3&nbsp;&nbsp;</span>Итоги исследования</a></span></li></ul></div>"
   ]
  },
  {
   "cell_type": "markdown",
   "id": "93bbc7ca",
   "metadata": {},
   "source": [
    "# Сравнение музыкальных вкусов Москвы и Санкт-Петербурга (Яндекс.Музыка)"
   ]
  },
  {
   "cell_type": "markdown",
   "id": "8796079e",
   "metadata": {},
   "source": [
    "Сравнение Москвы и Петербурга окружено мифами. Например:\n",
    " * Москва — мегаполис, подчинённый жёсткому ритму рабочей недели;\n",
    " * Петербург — культурная столица, со своими вкусами.\n",
    "\n",
    "На данных Яндекс Музыки сравним поведение пользователей двух столиц.\n",
    "\n",
    "**Цель исследования** — проверить три гипотезы:\n",
    "1. Активность пользователей зависит от дня недели. Причём в Москве и Петербурге это проявляется по-разному.\n",
    "2. В понедельник утром в Москве преобладают одни жанры, а в Петербурге — другие. Так же и вечером пятницы преобладают разные жанры — в зависимости от города. \n",
    "3. Москва и Петербург предпочитают разные жанры музыки. В Москве чаще слушают поп-музыку, в Петербурге — русский рэп.\n",
    "\n",
    "**Ход исследования**\n",
    "\n",
    "Данные о поведении пользователей находятся в `yandex_music_project.csv`.\n",
    "\n",
    "Поверим данне на ошибки и оценим их влияние на исследование. На этапе предобработки рассмотрим возможности исправить самые критичные ошибки данных.\n",
    " \n",
    "Таким образом, исследование пройдёт в три этапа:\n",
    " 1. Обзор данных.\n",
    " 2. Предобработка данных.\n",
    " 3. Проверка гипотез."
   ]
  },
  {
   "cell_type": "markdown",
   "id": "f17467da",
   "metadata": {},
   "source": [
    "## Обзор и предобработка данных\n",
    "\n",
    "Составьте первое представление о данных Яндекс Музыки.\n"
   ]
  },
  {
   "cell_type": "code",
   "execution_count": 1,
   "id": "8056e4ca",
   "metadata": {},
   "outputs": [],
   "source": [
    "# Импортируем библиотеки\n",
    "import pandas as pd "
   ]
  },
  {
   "cell_type": "code",
   "execution_count": 6,
   "id": "5730ff6f",
   "metadata": {},
   "outputs": [],
   "source": [
    "# Откроем файл с данными\n",
    "df = pd.read_csv('yandex_music_project.csv')"
   ]
  },
  {
   "cell_type": "code",
   "execution_count": 9,
   "id": "210ce164",
   "metadata": {},
   "outputs": [],
   "source": [
    "# Функция первичного обзора данных\n",
    "def review(data):\n",
    "    display(data.head(5))\n",
    "    print(data.info())\n",
    "    print('Пропуски:', data.isna().sum())\n",
    "    print('Явные дубликаты:')\n",
    "    if data.duplicated().sum() > 0:\n",
    "        print(data.duplicated().sum())\n",
    "    else:\n",
    "        print('Не найдено')"
   ]
  },
  {
   "cell_type": "code",
   "execution_count": 10,
   "id": "f62f73d4",
   "metadata": {},
   "outputs": [
    {
     "data": {
      "text/html": [
       "<div>\n",
       "<style scoped>\n",
       "    .dataframe tbody tr th:only-of-type {\n",
       "        vertical-align: middle;\n",
       "    }\n",
       "\n",
       "    .dataframe tbody tr th {\n",
       "        vertical-align: top;\n",
       "    }\n",
       "\n",
       "    .dataframe thead th {\n",
       "        text-align: right;\n",
       "    }\n",
       "</style>\n",
       "<table border=\"1\" class=\"dataframe\">\n",
       "  <thead>\n",
       "    <tr style=\"text-align: right;\">\n",
       "      <th></th>\n",
       "      <th>userID</th>\n",
       "      <th>Track</th>\n",
       "      <th>artist</th>\n",
       "      <th>genre</th>\n",
       "      <th>City</th>\n",
       "      <th>time</th>\n",
       "      <th>Day;;</th>\n",
       "    </tr>\n",
       "  </thead>\n",
       "  <tbody>\n",
       "    <tr>\n",
       "      <th>0</th>\n",
       "      <td>FFB692EC</td>\n",
       "      <td>Kamigata To Boots</td>\n",
       "      <td>The Mass Missile</td>\n",
       "      <td>rock</td>\n",
       "      <td>Saint-Petersburg</td>\n",
       "      <td>20:28:33</td>\n",
       "      <td>Wednesday;;</td>\n",
       "    </tr>\n",
       "    <tr>\n",
       "      <th>1</th>\n",
       "      <td>55204538</td>\n",
       "      <td>Delayed Because of Accident</td>\n",
       "      <td>Andreas Rönnberg</td>\n",
       "      <td>rock</td>\n",
       "      <td>Moscow</td>\n",
       "      <td>14:07:09</td>\n",
       "      <td>Friday;;</td>\n",
       "    </tr>\n",
       "    <tr>\n",
       "      <th>2</th>\n",
       "      <td>20EC38</td>\n",
       "      <td>Funiculì funiculà</td>\n",
       "      <td>Mario Lanza</td>\n",
       "      <td>pop</td>\n",
       "      <td>Saint-Petersburg</td>\n",
       "      <td>20:58:07</td>\n",
       "      <td>Wednesday;;</td>\n",
       "    </tr>\n",
       "    <tr>\n",
       "      <th>3</th>\n",
       "      <td>A3DD03C9</td>\n",
       "      <td>Dragons in the Sunset</td>\n",
       "      <td>Fire + Ice</td>\n",
       "      <td>folk</td>\n",
       "      <td>Saint-Petersburg</td>\n",
       "      <td>08:37:09</td>\n",
       "      <td>Monday;;</td>\n",
       "    </tr>\n",
       "    <tr>\n",
       "      <th>4</th>\n",
       "      <td>E2DC1FAE</td>\n",
       "      <td>Soul People</td>\n",
       "      <td>Space Echo</td>\n",
       "      <td>dance</td>\n",
       "      <td>Moscow</td>\n",
       "      <td>08:34:34</td>\n",
       "      <td>Monday;;</td>\n",
       "    </tr>\n",
       "  </tbody>\n",
       "</table>\n",
       "</div>"
      ],
      "text/plain": [
       "     userID                        Track            artist  genre  \\\n",
       "0  FFB692EC            Kamigata To Boots  The Mass Missile   rock   \n",
       "1  55204538  Delayed Because of Accident  Andreas Rönnberg   rock   \n",
       "2    20EC38            Funiculì funiculà       Mario Lanza    pop   \n",
       "3  A3DD03C9        Dragons in the Sunset        Fire + Ice   folk   \n",
       "4  E2DC1FAE                  Soul People        Space Echo  dance   \n",
       "\n",
       "             City        time        Day;;  \n",
       "0  Saint-Petersburg  20:28:33  Wednesday;;  \n",
       "1            Moscow  14:07:09     Friday;;  \n",
       "2  Saint-Petersburg  20:58:07  Wednesday;;  \n",
       "3  Saint-Petersburg  08:37:09     Monday;;  \n",
       "4            Moscow  08:34:34     Monday;;  "
      ]
     },
     "metadata": {},
     "output_type": "display_data"
    },
    {
     "name": "stdout",
     "output_type": "stream",
     "text": [
      "<class 'pandas.core.frame.DataFrame'>\n",
      "RangeIndex: 65215 entries, 0 to 65214\n",
      "Data columns (total 7 columns):\n",
      " #   Column    Non-Null Count  Dtype \n",
      "---  ------    --------------  ----- \n",
      " 0     userID  65215 non-null  object\n",
      " 1   Track     63256 non-null  object\n",
      " 2   artist    57330 non-null  object\n",
      " 3   genre     63292 non-null  object\n",
      " 4     City    64487 non-null  object\n",
      " 5   time      64487 non-null  object\n",
      " 6   Day;;     64485 non-null  object\n",
      "dtypes: object(7)\n",
      "memory usage: 3.5+ MB\n",
      "None\n",
      "Пропуски:   userID       0\n",
      "Track       1959\n",
      "artist      7885\n",
      "genre       1923\n",
      "  City       728\n",
      "time         728\n",
      "Day;;        730\n",
      "dtype: int64\n",
      "Явные дубликаты:\n",
      "3927\n"
     ]
    }
   ],
   "source": [
    "# Используем функцию для первичного обзора df\n",
    "review(df)"
   ]
  },
  {
   "cell_type": "markdown",
   "id": "82ad7bea",
   "metadata": {},
   "source": [
    "Итак, в таблице семь столбцов. Тип данных во всех столбцах — `object`.\n",
    "\n",
    "Согласно документации к данным:\n",
    "* `userID` — идентификатор пользователя;\n",
    "* `Track` — название трека;  \n",
    "* `artist` — имя исполнителя;\n",
    "* `genre` — название жанра;\n",
    "* `City` — город пользователя;\n",
    "* `time` — время начала прослушивания;\n",
    "* `Day` — день недели.\n",
    "\n",
    "Можно выделить следующие проблемы с данными:\n",
    "- Названия столбцов подлежат изменению на змеиный регистр. \n",
    "- Тип данных времени не соответствует требуемому, его поменяем на datetime.\n",
    "- Столбец со днем недели (Day) имеет ненужные символы.\n",
    "- В данных есть пропущенные значения и явные дубликаты."
   ]
  },
  {
   "cell_type": "code",
   "execution_count": 18,
   "id": "5a6f3a24",
   "metadata": {},
   "outputs": [],
   "source": [
    "# Переименование столбцов\n",
    "df = df.rename(columns = {'  userID':'user_id', 'Track':'track', '  City  ':'city', 'Day;;':'day'})"
   ]
  },
  {
   "cell_type": "code",
   "execution_count": 12,
   "id": "db4aa86f",
   "metadata": {},
   "outputs": [],
   "source": [
    "# Заменим пропущенные значения в столбцах track, artist и genre на строку 'unknown'\n",
    "columns_to_replace = ['track', 'artist', 'genre'] \n",
    "\n",
    "for column in columns_to_replace:\n",
    "    df[column] = df[column].fillna('unknown')"
   ]
  },
  {
   "cell_type": "code",
   "execution_count": 13,
   "id": "9275fcae",
   "metadata": {},
   "outputs": [],
   "source": [
    "# Удаление явных дубликатов\n",
    "df = df.drop_duplicates()"
   ]
  },
  {
   "cell_type": "code",
   "execution_count": 26,
   "id": "b04585ec",
   "metadata": {},
   "outputs": [],
   "source": [
    "# Функция проверки наличия неявных дубликатов\n",
    "def duplicates_check(data):\n",
    "    print(data.sort_values().unique())"
   ]
  },
  {
   "cell_type": "code",
   "execution_count": 28,
   "id": "33c6c379",
   "metadata": {},
   "outputs": [
    {
     "name": "stdout",
     "output_type": "stream",
     "text": [
      "['Moscow' 'acid' 'acoustic' 'action' 'adult' 'africa' 'afrikaans'\n",
      " 'alternative' 'alternativepunk' 'ambient' 'americana' 'animated' 'anime'\n",
      " 'arabesk' 'arabic' 'arena' 'argentinetango' 'art' 'audiobook' 'author'\n",
      " 'avantgarde' 'axé' 'baile' 'balkan' 'beats' 'bigroom' 'black' 'bluegrass'\n",
      " 'blues' 'bollywood' 'bossa' 'brazilian' 'breakbeat' 'breaks' 'broadway'\n",
      " 'cantautori' 'cantopop' 'canzone' 'caribbean' 'caucasian' 'celtic'\n",
      " 'chamber' 'chanson' 'children' 'chill' 'chinese' 'choral' 'christian'\n",
      " 'christmas' 'classical' 'classicmetal' 'club' 'colombian' 'comedy'\n",
      " 'conjazz' 'contemporary' 'country' 'cuban' 'dance' 'dancehall' 'dancepop'\n",
      " 'dark' 'death' 'deep' 'deutschrock' 'deutschspr' 'dirty' 'disco' 'dnb'\n",
      " 'documentary' 'downbeat' 'downtempo' 'drum' 'dub' 'dubstep' 'eastern'\n",
      " 'easy' 'electronic' 'electropop' 'emo' 'entehno' 'epicmetal' 'estrada'\n",
      " 'ethnic' 'eurofolk' 'european' 'experimental' 'extrememetal' 'fado'\n",
      " 'fairytail' 'film' 'fitness' 'flamenco' 'folk' 'folklore' 'folkmetal'\n",
      " 'folkrock' 'folktronica' 'forró' 'frankreich' 'französisch' 'french'\n",
      " 'funk' 'future' 'gangsta' 'garage' 'german' 'ghazal' 'glitch' 'gospel'\n",
      " 'gothic' 'grime' 'grunge' 'gypsy' 'handsup' \"hard'n'heavy\" 'hardcore'\n",
      " 'hardstyle' 'hardtechno' 'hiphop' 'historisch' 'holiday' 'horror' 'house'\n",
      " 'hymn' 'idm' 'independent' 'indian' 'indie' 'indipop' 'industrial'\n",
      " 'inspirational' 'instrumental' 'international' 'irish' 'jam' 'japanese'\n",
      " 'jazz' 'jewish' 'jpop' 'jungle' 'k-pop' 'karadeniz' 'karaoke' 'kayokyoku'\n",
      " 'korean' 'laiko' 'latin' 'latino' 'leftfield' 'local' 'lounge'\n",
      " 'loungeelectronic' 'lovers' 'malaysian' 'mandopop' 'marschmusik'\n",
      " 'meditative' 'mediterranean' 'melodic' 'metal' 'metalcore' 'mexican'\n",
      " 'middle' 'minimal' 'miscellaneous' 'modern' 'mood' 'mpb' 'muslim'\n",
      " 'native' 'neoklassik' 'neue' 'new' 'newage' 'newwave' 'nu' 'nujazz'\n",
      " 'numetal' 'oceania' 'old' 'opera' 'orchestral' 'other' 'piano' 'podcasts'\n",
      " 'pop' 'popdance' 'popelectronic' 'popeurodance' 'poprussian' 'post'\n",
      " 'posthardcore' 'postrock' 'power' 'progmetal' 'progressive' 'psychedelic'\n",
      " 'punjabi' 'punk' 'quebecois' 'ragga' 'ram' 'rancheras' 'rap' 'rave'\n",
      " 'reggae' 'reggaeton' 'regional' 'relax' 'religious' 'retro' 'rhythm'\n",
      " 'rnb' 'rnr' 'rock' 'rockabilly' 'rockalternative' 'rockindie' 'rockother'\n",
      " 'romance' 'roots' 'ruspop' 'rusrap' 'rusrock' 'russian' 'salsa' 'samba'\n",
      " 'scenic' 'schlager' 'self' 'sertanejo' 'shanson' 'shoegazing' 'showtunes'\n",
      " 'singer' 'ska' 'skarock' 'slow' 'smooth' 'soft' 'soul' 'soulful' 'sound'\n",
      " 'soundtrack' 'southern' 'specialty' 'speech' 'spiritual' 'sport'\n",
      " 'stonerrock' 'surf' 'swing' 'synthpop' 'synthrock' 'tango'\n",
      " 'tanzorchester' 'taraftar' 'tatar' 'tech' 'techno' 'teen' 'thrash' 'top'\n",
      " 'traditional' 'tradjazz' 'trance' 'tribal' 'trip' 'triphop' 'tropical'\n",
      " 'türk' 'türkçe' 'ukrrock' 'unknown' 'urban' 'uzbek' 'variété' 'vi'\n",
      " 'videogame' 'vocal' 'western' 'world' 'worldbeat' 'ïîï' 'электроника']\n",
      "['08:40:52' '09:28:57' 'Moscow' 'Saint-Petersburg' nan]\n",
      "['Friday' 'Monday' 'Wednesday' nan]\n"
     ]
    }
   ],
   "source": [
    "# Проверим данные на наличие неявных дубликатов в столбцах genre, city и day\n",
    "columns_to_check = ['genre', 'city', 'day'] \n",
    "\n",
    "for column in columns_to_check:\n",
    "    duplicates_check(df[column])"
   ]
  },
  {
   "cell_type": "markdown",
   "id": "bdf23111",
   "metadata": {},
   "source": [
    "Есть неявные дубликаты в столбцах genre и day:\n",
    "* *hip*,\n",
    "* *hop*,\n",
    "* *hip-hop*.\n",
    "\n",
    "\n",
    "* *Friday;*\n",
    "* *Friday;;*\n",
    "* *Monday*\n",
    "* *Monday;*\n",
    "* *Monday;;*\n",
    "* *Wednesday;*\n",
    "* *Wednesday;;*\n",
    "\n",
    "Заменим в столбце с жанрами `hip`, `hop` и `hip-hop` на `hiphop`, а в  столбце с названиями дней недели уберем точки с запятой.\n",
    "\n",
    "В столбце city есть некорректные значения '08:40:52' '09:28:57', их удалим."
   ]
  },
  {
   "cell_type": "code",
   "execution_count": 15,
   "id": "bc2a2118",
   "metadata": {},
   "outputs": [],
   "source": [
    "# Устранение неявных дубликатов в столбце genre\n",
    "genre_to_replace = ['hip', 'hop', 'hip-hop']\n",
    "df['genre'] = df['genre'].replace(genre_to_replace,'hiphop')"
   ]
  },
  {
   "cell_type": "code",
   "execution_count": 22,
   "id": "fd6e2580",
   "metadata": {},
   "outputs": [],
   "source": [
    "# Устранение неявных дубликатов в столбце day\n",
    "df['day'] = df['day'].replace(to_replace =';', value = '', regex = True)"
   ]
  },
  {
   "cell_type": "code",
   "execution_count": 37,
   "id": "5d1942e3",
   "metadata": {},
   "outputs": [],
   "source": [
    "# Устранение некорректных значений в столбце city\n",
    "df = df[(df['city']!='08:40:52')&(df['city']!='09:28:57')]"
   ]
  },
  {
   "cell_type": "markdown",
   "id": "40201428",
   "metadata": {},
   "source": [
    "**Выводы**\n",
    "\n",
    "В ходе предобработки внесены изменения:\n",
    "\n",
    "- Исправлены нарушения в стиле заголовков,\n",
    "- Пропущенные значения в столбцах track, artist и genre заменили на `'unknown'`.\n",
    "- Устранены дубликаты — явные и неявные (в столбцах genre и day).\n",
    "- Удалены некорректыне значения из столбца city"
   ]
  },
  {
   "cell_type": "markdown",
   "id": "b884695c",
   "metadata": {},
   "source": [
    "## Проверка гипотез"
   ]
  },
  {
   "cell_type": "markdown",
   "id": "8da7efb7",
   "metadata": {},
   "source": [
    "### Сравнение поведения пользователей двух столиц"
   ]
  },
  {
   "cell_type": "markdown",
   "id": "0a7f3b39",
   "metadata": {},
   "source": [
    "Первая гипотеза утверждает, что пользователи по-разному слушают музыку в Москве и Санкт-Петербурге. Проверим это предположение по данным о трёх днях недели — понедельнике, среде и пятнице. Для этого:\n",
    "\n",
    "* Разделим пользователей Москвы и Санкт-Петербурга.\n",
    "* Сравним, сколько треков послушала каждая группа пользователей в понедельник, среду и пятницу.\n"
   ]
  },
  {
   "cell_type": "code",
   "execution_count": 39,
   "id": "58333aec",
   "metadata": {},
   "outputs": [
    {
     "name": "stdout",
     "output_type": "stream",
     "text": [
      "city\n",
      "Moscow              42332\n",
      "Saint-Petersburg    18358\n",
      "Name: user_id, dtype: int64\n"
     ]
    }
   ],
   "source": [
    "# Подсчёт прослушиваний в каждом городе\n",
    "print(df.groupby('city')['user_id'].count())"
   ]
  },
  {
   "cell_type": "markdown",
   "id": "bd017da9",
   "metadata": {},
   "source": [
    "В Москве прослушиваний больше, чем в Петербурге. Из этого не следует, что московские пользователи чаще слушают музыку. Просто самих пользователей в Москве больше."
   ]
  },
  {
   "cell_type": "code",
   "execution_count": 40,
   "id": "9afc68b7",
   "metadata": {},
   "outputs": [
    {
     "name": "stdout",
     "output_type": "stream",
     "text": [
      "day\n",
      "Friday       21621\n",
      "Monday       21183\n",
      "Wednesday    17886\n",
      "Name: user_id, dtype: int64\n"
     ]
    }
   ],
   "source": [
    "# Подсчёт прослушиваний в каждый из трёх дней\n",
    "print(df.groupby('day')['user_id'].count())"
   ]
  },
  {
   "cell_type": "markdown",
   "id": "c164b78b",
   "metadata": {},
   "source": [
    "В среднем пользователи из двух городов менее активны по средам. Но картина может измениться, если рассмотреть каждый город в отдельности."
   ]
  },
  {
   "cell_type": "code",
   "execution_count": 41,
   "id": "ef3285ae",
   "metadata": {},
   "outputs": [],
   "source": [
    "# Функция расчета прослушивания для заданного дня и города\n",
    "def number_tracks(day, city):\n",
    "    track_list=df[(df['day']==day)&(df['city']==city)]\n",
    "    track_list_count=track_list['user_id'].count()\n",
    "    return track_list_count"
   ]
  },
  {
   "cell_type": "code",
   "execution_count": 42,
   "id": "b11a43a0",
   "metadata": {},
   "outputs": [
    {
     "data": {
      "text/plain": [
       "15614"
      ]
     },
     "execution_count": 42,
     "metadata": {},
     "output_type": "execute_result"
    }
   ],
   "source": [
    "# количество прослушиваний в Москве по понедельникам\n",
    "number_tracks('Monday', 'Moscow')"
   ]
  },
  {
   "cell_type": "code",
   "execution_count": 43,
   "id": "fbb5bbff",
   "metadata": {},
   "outputs": [
    {
     "data": {
      "text/plain": [
       "5569"
      ]
     },
     "execution_count": 43,
     "metadata": {},
     "output_type": "execute_result"
    }
   ],
   "source": [
    "# количество прослушиваний в Санкт-Петербурге по понедельникам\n",
    "number_tracks('Monday', 'Saint-Petersburg') "
   ]
  },
  {
   "cell_type": "code",
   "execution_count": 44,
   "id": "eced874a",
   "metadata": {},
   "outputs": [
    {
     "data": {
      "text/plain": [
       "10939"
      ]
     },
     "execution_count": 44,
     "metadata": {},
     "output_type": "execute_result"
    }
   ],
   "source": [
    "# количество прослушиваний в Москве по средам\n",
    "number_tracks('Wednesday', 'Moscow')"
   ]
  },
  {
   "cell_type": "code",
   "execution_count": 45,
   "id": "47400ee3",
   "metadata": {},
   "outputs": [
    {
     "data": {
      "text/plain": [
       "6947"
      ]
     },
     "execution_count": 45,
     "metadata": {},
     "output_type": "execute_result"
    }
   ],
   "source": [
    "# количество прослушиваний в Санкт-Петербурге по средам\n",
    "number_tracks('Wednesday', 'Saint-Petersburg') "
   ]
  },
  {
   "cell_type": "code",
   "execution_count": 46,
   "id": "ad0aa204",
   "metadata": {},
   "outputs": [
    {
     "data": {
      "text/plain": [
       "15779"
      ]
     },
     "execution_count": 46,
     "metadata": {},
     "output_type": "execute_result"
    }
   ],
   "source": [
    "# количество прослушиваний в Москве по пятницам\n",
    "number_tracks('Friday', 'Moscow')"
   ]
  },
  {
   "cell_type": "code",
   "execution_count": 47,
   "id": "fce6184e",
   "metadata": {},
   "outputs": [
    {
     "data": {
      "text/plain": [
       "5842"
      ]
     },
     "execution_count": 47,
     "metadata": {},
     "output_type": "execute_result"
    }
   ],
   "source": [
    "# количество прослушиваний в Санкт-Петербурге по пятницам\n",
    "number_tracks('Friday', 'Saint-Petersburg')"
   ]
  },
  {
   "cell_type": "markdown",
   "id": "74db400c",
   "metadata": {},
   "source": [
    "Создадим c помощью конструктора pd.DataFrame таблицу, где:\n",
    "\n",
    "- названия колонок — ['city', 'monday', 'wednesday', 'friday'];\n",
    "- данные — результаты, которые мы получили с помощью number_tracks."
   ]
  },
  {
   "cell_type": "code",
   "execution_count": 48,
   "id": "3fd0f3e3",
   "metadata": {},
   "outputs": [
    {
     "data": {
      "text/html": [
       "<div>\n",
       "<style scoped>\n",
       "    .dataframe tbody tr th:only-of-type {\n",
       "        vertical-align: middle;\n",
       "    }\n",
       "\n",
       "    .dataframe tbody tr th {\n",
       "        vertical-align: top;\n",
       "    }\n",
       "\n",
       "    .dataframe thead th {\n",
       "        text-align: right;\n",
       "    }\n",
       "</style>\n",
       "<table border=\"1\" class=\"dataframe\">\n",
       "  <thead>\n",
       "    <tr style=\"text-align: right;\">\n",
       "      <th></th>\n",
       "      <th>city</th>\n",
       "      <th>monday</th>\n",
       "      <th>wednesday</th>\n",
       "      <th>friday</th>\n",
       "    </tr>\n",
       "  </thead>\n",
       "  <tbody>\n",
       "    <tr>\n",
       "      <th>0</th>\n",
       "      <td>Moscow</td>\n",
       "      <td>15740</td>\n",
       "      <td>11056</td>\n",
       "      <td>15945</td>\n",
       "    </tr>\n",
       "    <tr>\n",
       "      <th>1</th>\n",
       "      <td>Saint-Petersburg</td>\n",
       "      <td>5614</td>\n",
       "      <td>7003</td>\n",
       "      <td>5895</td>\n",
       "    </tr>\n",
       "  </tbody>\n",
       "</table>\n",
       "</div>"
      ],
      "text/plain": [
       "               city  monday  wednesday  friday\n",
       "0            Moscow   15740      11056   15945\n",
       "1  Saint-Petersburg    5614       7003    5895"
      ]
     },
     "execution_count": 48,
     "metadata": {},
     "output_type": "execute_result"
    }
   ],
   "source": [
    "# Таблица с результатами\n",
    "data = [['Moscow', 15740, 11056, 15945],\n",
    "       ['Saint-Petersburg', 5614, 7003, 5895]]\n",
    "columns = ['city','monday','wednesday','friday']\n",
    "info = pd.DataFrame(data = data, columns = columns)\n",
    "info "
   ]
  },
  {
   "cell_type": "markdown",
   "id": "310fbb2f",
   "metadata": {},
   "source": [
    "**Выводы**\n",
    "\n",
    "Данные показывают разницу поведения пользователей:\n",
    "\n",
    "- В Москве пик прослушиваний приходится на понедельник и пятницу, а в среду заметен спад.\n",
    "- В Петербурге, наоборот, больше слушают музыку по средам. Активность в понедельник и пятницу здесь почти в равной мере уступает среде.\n",
    "\n",
    "Значит, данные говорят в пользу первой гипотезы."
   ]
  },
  {
   "cell_type": "markdown",
   "id": "84469c7d",
   "metadata": {},
   "source": [
    "### Музыка в начале и в конце недели"
   ]
  },
  {
   "cell_type": "markdown",
   "id": "e980bd20",
   "metadata": {},
   "source": [
    "Согласно второй гипотезе, утром в понедельник в Москве преобладают одни жанры, а в Петербурге — другие. Так же и вечером пятницы преобладают разные жанры — в зависимости от города."
   ]
  },
  {
   "cell_type": "code",
   "execution_count": 50,
   "id": "9e8f4a3e",
   "metadata": {},
   "outputs": [],
   "source": [
    "# Сохраним данные по городам в отдельных переменных\n",
    "moscow_general = df[df['city'] == 'Moscow']\n",
    "spb_general = df[df['city'] == 'Saint-Petersburg']"
   ]
  },
  {
   "cell_type": "code",
   "execution_count": 53,
   "id": "c03774b2",
   "metadata": {},
   "outputs": [],
   "source": [
    "# Функция вывода топ-10 жанров тех треков, которые прослушивали в указанный день, в промежутке между двумя отметками времени\n",
    "def genre_weekday(df, day, time1, time2):\n",
    "    genre_df = df[(df['day'] == day)&(df['time'] > time1)&(df['time'] < time2)]\n",
    "    genre_df_count=genre_df.groupby('genre')['user_id'].count()\n",
    "    genre_df_count=genre_df_count.sort_values(ascending=False)\n",
    "    print(genre_df_count.head(10))"
   ]
  },
  {
   "cell_type": "markdown",
   "id": "0d665e6b",
   "metadata": {},
   "source": [
    "Cравним результаты функции genre_weekday() для Москвы и Санкт-Петербурга в понедельник утром (с 7:00 до 11:00) и в пятницу вечером (с 17:00 до 23:00):"
   ]
  },
  {
   "cell_type": "code",
   "execution_count": 54,
   "id": "f73643eb",
   "metadata": {},
   "outputs": [
    {
     "name": "stdout",
     "output_type": "stream",
     "text": [
      "genre\n",
      "pop            775\n",
      "dance          549\n",
      "electronic     480\n",
      "rock           474\n",
      "hiphop         286\n",
      "ruspop         186\n",
      "world          180\n",
      "rusrap         175\n",
      "alternative    164\n",
      "unknown        161\n",
      "Name: user_id, dtype: int64\n",
      "genre\n",
      "pop            216\n",
      "dance          182\n",
      "rock           162\n",
      "electronic     147\n",
      "hiphop          80\n",
      "ruspop          63\n",
      "alternative     58\n",
      "rusrap          55\n",
      "jazz            43\n",
      "classical       36\n",
      "Name: user_id, dtype: int64\n"
     ]
    }
   ],
   "source": [
    "# Предпочтения городов в понедельник утром (с 7:00 до 11:00)\n",
    "genre_weekday(moscow_general, 'Monday', '07:00', '11:00')\n",
    "genre_weekday(spb_general, 'Monday', '07:00', '11:00')"
   ]
  },
  {
   "cell_type": "code",
   "execution_count": 55,
   "id": "8f01961d",
   "metadata": {},
   "outputs": [
    {
     "name": "stdout",
     "output_type": "stream",
     "text": [
      "genre\n",
      "pop            706\n",
      "rock           516\n",
      "dance          493\n",
      "electronic     482\n",
      "hiphop         273\n",
      "world          207\n",
      "ruspop         170\n",
      "alternative    163\n",
      "rusrap         142\n",
      "classical      135\n",
      "Name: user_id, dtype: int64\n",
      "genre\n",
      "pop            253\n",
      "electronic     216\n",
      "rock           215\n",
      "dance          210\n",
      "hiphop          97\n",
      "alternative     63\n",
      "jazz            61\n",
      "rusrap          59\n",
      "classical       53\n",
      "world           53\n",
      "Name: user_id, dtype: int64\n"
     ]
    }
   ],
   "source": [
    "# Предпочтения городов в пятницу вечером (с 17:00 до 23:00)\n",
    "genre_weekday(moscow_general, 'Friday', '17:00', '23:00')\n",
    "genre_weekday(spb_general, 'Friday', '17:00', '23:00')"
   ]
  },
  {
   "cell_type": "markdown",
   "id": "78b0c0e0",
   "metadata": {},
   "source": [
    "**Выводы**\n",
    "\n",
    "Если сравнить топ-10 жанров в понедельник утром, можно сделать такие выводы:\n",
    "\n",
    "1. В Москве и Петербурге слушают похожую музыку. Единственное отличие — в московский рейтинг вошёл жанр “world”, а в петербургский — джаз и классика.\n",
    "\n",
    "2. В Москве пропущенных значений оказалось так много, что значение `'unknown'` заняло десятое место среди самых популярных жанров. Значит, пропущенные значения занимают существенную долю в данных и угрожают достоверности исследования.\n",
    "\n",
    "Вечер пятницы не меняет эту картину. Некоторые жанры поднимаются немного выше, другие спускаются, но в целом топ-10 остаётся тем же самым.\n",
    "\n",
    "Таким образом, вторая гипотеза подтвердилась лишь частично:\n",
    "* Пользователи слушают похожую музыку в начале недели и в конце.\n",
    "* Разница между Москвой и Петербургом не слишком выражена. В Москве чаще слушают русскую популярную музыку, в Петербурге — джаз.\n",
    "\n",
    "Однако пропуски в данных ставят под сомнение этот результат. В Москве их так много, что рейтинг топ-10 мог бы выглядеть иначе, если бы не утерянные  данные о жанрах."
   ]
  },
  {
   "cell_type": "markdown",
   "id": "4154a232",
   "metadata": {},
   "source": [
    "### Жанровые предпочтения в Москве и Петербурге\n",
    "\n",
    "Гипотеза: Петербург — столица рэпа, музыку этого жанра там слушают чаще, чем в Москве.  А Москва — город контрастов, в котором, тем не менее, преобладает поп-музыка."
   ]
  },
  {
   "cell_type": "code",
   "execution_count": 58,
   "id": "05129aa1",
   "metadata": {},
   "outputs": [],
   "source": [
    "# Сгруппируем таблицы с данными по городам по жанру \n",
    "moscow_genres = moscow_general.groupby('genre')['genre'].count().sort_values(ascending=False)\n",
    "spb_genres = spb_general.groupby('genre')['genre'].count().sort_values(ascending=False)"
   ]
  },
  {
   "cell_type": "code",
   "execution_count": 59,
   "id": "4608dc46",
   "metadata": {},
   "outputs": [
    {
     "name": "stdout",
     "output_type": "stream",
     "text": [
      "genre\n",
      "pop            5840\n",
      "dance          4432\n",
      "rock           3956\n",
      "electronic     3784\n",
      "hiphop         2095\n",
      "classical      1427\n",
      "world          1423\n",
      "alternative    1377\n",
      "ruspop         1368\n",
      "rusrap         1160\n",
      "Name: genre, dtype: int64\n",
      "genre\n",
      "pop            2410\n",
      "dance          1931\n",
      "rock           1875\n",
      "electronic     1734\n",
      "hiphop          960\n",
      "alternative     647\n",
      "classical       582\n",
      "rusrap          564\n",
      "ruspop          535\n",
      "world           513\n",
      "Name: genre, dtype: int64\n"
     ]
    }
   ],
   "source": [
    "print(moscow_genres.head(10))#\n",
    "print(spb_genres.head(10))#"
   ]
  },
  {
   "cell_type": "markdown",
   "id": "50d89584",
   "metadata": {},
   "source": [
    "**Выводы**\n",
    "\n",
    "Гипотеза частично подтвердилась:\n",
    "* Поп-музыка — самый популярный жанр в Москве, как и предполагала гипотеза. Более того, в топ-10 жанров встречается близкий жанр — русская популярная музыка.\n",
    "* Вопреки ожиданиям, рэп одинаково популярен в Москве и Петербурге. \n"
   ]
  },
  {
   "cell_type": "markdown",
   "id": "da853c8b",
   "metadata": {},
   "source": [
    "## Итоги исследования"
   ]
  },
  {
   "cell_type": "markdown",
   "id": "39b212c4",
   "metadata": {},
   "source": [
    "Мы проверили три гипотезы и установили:\n",
    "\n",
    "**Гипотеза 1. Активность пользователей зависит от дня недели. Причём в Москве и Петербурге это проявляется по-разному.**\n",
    "Исследование показало, что день недели по-разному влияет на активность пользователей в Москве и Петербурге.\n",
    "В Москве пик прослушиваний приходится на понедельник и пятницу, а в среду заметен спад.\n",
    "В Петербурге, наоборот, больше слушают музыку по средам. Активность в понедельник и пятницу здесь почти в равной мере уступает среде.\n",
    "\n",
    "_Первая гипотеза полностью подтвердилась._\n",
    "\n",
    "**Гипотеза 2. В понедельник утром в Москве преобладают одни жанры, а в Петербурге — другие. Так же и вечером пятницы преобладают разные жанры — в зависимости от города.**\n",
    "Проверка гипотезы показала, что музыкальные предпочтения не сильно меняются в течение недели — будь то Москва или Петербург. Небольшие различия заметны в начале недели, по утрам понедельника:\n",
    "* в Москве слушают музыку жанра “world”,\n",
    "* в Петербурге — джаз и классику.\n",
    "Вечер пятницы не меняет эту картину. Некоторые жанры поднимаются немного выше, другие спускаются, но в целом топ-10 остаётся тем же самым.\n",
    "\n",
    "Таким образом, _вторая гипотеза подтвердилась лишь отчасти_. Этот результат мог оказаться иным, если бы не пропуски в данных.\n",
    "\n",
    "**Гипотеза 3. Москва и Петербург предпочитают разные жанры музыки. В Москве чаще слушают поп-музыку, в Петербурге — русский рэп.**\n",
    "Оказалочь, что во вкусах пользователей Москвы и Петербурга больше общего чем различий. Вопреки ожиданиям, предпочтения жанров в Петербурге напоминают московские:\n",
    "* Поп-музыка — самый популярный жанр в Москве, как и предполагала гипотеза. Более того, в топ-10 жанров встречается близкий жанр — русская популярная музыка.\n",
    "* Вопреки ожиданиям, рэп одинаково популярен в Москве и Петербурге.\n",
    "\n",
    "_Третья гипотеза не подтвердилась_. Если различия в предпочтениях и существуют, на основной массе пользователей они незаметны."
   ]
  }
 ],
 "metadata": {
  "kernelspec": {
   "display_name": "Python 3 (ipykernel)",
   "language": "python",
   "name": "python3"
  },
  "language_info": {
   "codemirror_mode": {
    "name": "ipython",
    "version": 3
   },
   "file_extension": ".py",
   "mimetype": "text/x-python",
   "name": "python",
   "nbconvert_exporter": "python",
   "pygments_lexer": "ipython3",
   "version": "3.9.13"
  },
  "toc": {
   "base_numbering": 1,
   "nav_menu": {},
   "number_sections": true,
   "sideBar": true,
   "skip_h1_title": true,
   "title_cell": "Table of Contents",
   "title_sidebar": "Contents",
   "toc_cell": true,
   "toc_position": {},
   "toc_section_display": true,
   "toc_window_display": false
  }
 },
 "nbformat": 4,
 "nbformat_minor": 5
}
