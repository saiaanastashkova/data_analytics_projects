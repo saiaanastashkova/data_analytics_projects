{
 "cells": [
  {
   "cell_type": "markdown",
   "id": "e3eb08d5",
   "metadata": {
    "toc": true
   },
   "source": [
    "<h1>Table of Contents<span class=\"tocSkip\"></span></h1>\n",
    "<div class=\"toc\"><ul class=\"toc-item\"><li><span><a href=\"#Сборный-проект-№-2.-Анализ-мобильного-приложения\" data-toc-modified-id=\"Сборный-проект-№-2.-Анализ-мобильного-приложения-1\">Сборный проект № 2. Анализ мобильного приложения</a></span><ul class=\"toc-item\"><li><span><a href=\"#О-чем-проект\" data-toc-modified-id=\"О-чем-проект-1.1\">О чем проект</a></span></li><li><span><a href=\"#Обзор-данных\" data-toc-modified-id=\"Обзор-данных-1.2\">Обзор данных</a></span></li><li><span><a href=\"#Предобработка-данных\" data-toc-modified-id=\"Предобработка-данных-1.3\">Предобработка данных</a></span></li><li><span><a href=\"#Изучение-и-проверка-данных\" data-toc-modified-id=\"Изучение-и-проверка-данных-1.4\">Изучение и проверка данных</a></span><ul class=\"toc-item\"><li><span><a href=\"#События-и-пользователи\" data-toc-modified-id=\"События-и-пользователи-1.4.1\">События и пользователи</a></span></li><li><span><a href=\"#Временные-параметры\" data-toc-modified-id=\"Временные-параметры-1.4.2\">Временные параметры</a></span></li><li><span><a href=\"#Группы-и-пользователи\" data-toc-modified-id=\"Группы-и-пользователи-1.4.3\">Группы и пользователи</a></span></li><li><span><a href=\"#Промежуточные-выводы\" data-toc-modified-id=\"Промежуточные-выводы-1.4.4\">Промежуточные выводы</a></span></li></ul></li><li><span><a href=\"#Исследовательский-анализ\" data-toc-modified-id=\"Исследовательский-анализ-1.5\">Исследовательский анализ</a></span><ul class=\"toc-item\"><li><span><a href=\"#Виды-событий\" data-toc-modified-id=\"Виды-событий-1.5.1\">Виды событий</a></span></li><li><span><a href=\"#Воронка\" data-toc-modified-id=\"Воронка-1.5.2\">Воронка</a></span><ul class=\"toc-item\"><li><span><a href=\"#Порядок-событий-в-воронке\" data-toc-modified-id=\"Порядок-событий-в-воронке-1.5.2.1\">Порядок событий в воронке</a></span></li><li><span><a href=\"#Расчет-конверсии-по-воронке\" data-toc-modified-id=\"Расчет-конверсии-по-воронке-1.5.2.2\">Расчет конверсии по воронке</a></span></li></ul></li></ul></li><li><span><a href=\"#A/A/B-тестирование\" data-toc-modified-id=\"A/A/B-тестирование-1.6\">A/A/B-тестирование</a></span><ul class=\"toc-item\"><li><span><a href=\"#A/A-тестирование\" data-toc-modified-id=\"A/A-тестирование-1.6.1\">A/A-тестирование</a></span></li><li><span><a href=\"#A/B-тестирование\" data-toc-modified-id=\"A/B-тестирование-1.6.2\">A/B-тестирование</a></span></li><li><span><a href=\"#Пояснения-к-проведению-тестирования\" data-toc-modified-id=\"Пояснения-к-проведению-тестирования-1.6.3\">Пояснения к проведению тестирования</a></span></li></ul></li><li><span><a href=\"#Выводы-и-рекомендации\" data-toc-modified-id=\"Выводы-и-рекомендации-1.7\">Выводы и рекомендации</a></span></li></ul></li></ul></div>"
   ]
  },
  {
   "cell_type": "markdown",
   "id": "3e56c111",
   "metadata": {},
   "source": [
    "# Сборный проект № 2. Анализ мобильного приложения"
   ]
  },
  {
   "cell_type": "markdown",
   "id": "c5e0fa18",
   "metadata": {},
   "source": [
    "## О чем проект"
   ]
  },
  {
   "cell_type": "markdown",
   "id": "ba2f9d66",
   "metadata": {},
   "source": [
    "Нам предстоит изучить работу мобильного приложения стартапа, который продаёт продукты питания. Дизайнеры захотели поменять шрифты во всём приложении, а менеджеры испугались, что пользователям будет непривычно. Договорились принять решение, основанное на данных - по результатам A/A/B-теста.\n",
    "\n",
    "**Цели исследования:**\n",
    "1. Изучить воронку продаж. Определим, как пользователи доходят до покупки.\n",
    "2. Исследовать результаты A/A/B-эксперимента по замене шрифта. Пользователи разделены на 3 группы: 2 контрольные со старыми шрифтами и одну экспериментальную — с новыми. Выяснить, какой шрифт лучше.\n",
    "\n",
    "**Этапы исследования:**\n",
    "1. Обзор данных\n",
    "2. Предобработка данных\n",
    "3. Изучение и проверка данных\n",
    "4. Исследовательский анализ метрик\n",
    "5. Оценка результатов A/A/B теста \n",
    "6. Подведение итогов и разработка рекомендаций\n",
    "\n"
   ]
  },
  {
   "cell_type": "markdown",
   "id": "a47690c3",
   "metadata": {},
   "source": [
    "## Обзор данных"
   ]
  },
  {
   "cell_type": "code",
   "execution_count": 1,
   "id": "bd5afd37",
   "metadata": {},
   "outputs": [],
   "source": [
    "# Импортируем нужные библиотеки\n",
    "import pandas as pd\n",
    "import scipy.stats as stats\n",
    "import math as mth\n",
    "import datetime as dt\n",
    "import numpy as np\n",
    "import seaborn as sns\n",
    "import matplotlib as plt\n",
    "import matplotlib.pyplot as plt\n",
    "from plotly import graph_objects as go"
   ]
  },
  {
   "cell_type": "code",
   "execution_count": 2,
   "id": "9ed88258",
   "metadata": {},
   "outputs": [],
   "source": [
    "#Откроем файл  с данными\n",
    "try:\n",
    "    data = pd.read_csv('/datasets/logs_exp.csv', sep='\\t')\n",
    "except:\n",
    "    data = pd.read_csv('logs_exp.csv', sep='\\t')"
   ]
  },
  {
   "cell_type": "code",
   "execution_count": 3,
   "id": "5235cff4",
   "metadata": {},
   "outputs": [
    {
     "data": {
      "text/html": [
       "<div>\n",
       "<style scoped>\n",
       "    .dataframe tbody tr th:only-of-type {\n",
       "        vertical-align: middle;\n",
       "    }\n",
       "\n",
       "    .dataframe tbody tr th {\n",
       "        vertical-align: top;\n",
       "    }\n",
       "\n",
       "    .dataframe thead th {\n",
       "        text-align: right;\n",
       "    }\n",
       "</style>\n",
       "<table border=\"1\" class=\"dataframe\">\n",
       "  <thead>\n",
       "    <tr style=\"text-align: right;\">\n",
       "      <th></th>\n",
       "      <th>EventName</th>\n",
       "      <th>DeviceIDHash</th>\n",
       "      <th>EventTimestamp</th>\n",
       "      <th>ExpId</th>\n",
       "    </tr>\n",
       "  </thead>\n",
       "  <tbody>\n",
       "    <tr>\n",
       "      <th>0</th>\n",
       "      <td>MainScreenAppear</td>\n",
       "      <td>4575588528974610257</td>\n",
       "      <td>1564029816</td>\n",
       "      <td>246</td>\n",
       "    </tr>\n",
       "    <tr>\n",
       "      <th>1</th>\n",
       "      <td>MainScreenAppear</td>\n",
       "      <td>7416695313311560658</td>\n",
       "      <td>1564053102</td>\n",
       "      <td>246</td>\n",
       "    </tr>\n",
       "    <tr>\n",
       "      <th>2</th>\n",
       "      <td>PaymentScreenSuccessful</td>\n",
       "      <td>3518123091307005509</td>\n",
       "      <td>1564054127</td>\n",
       "      <td>248</td>\n",
       "    </tr>\n",
       "    <tr>\n",
       "      <th>3</th>\n",
       "      <td>CartScreenAppear</td>\n",
       "      <td>3518123091307005509</td>\n",
       "      <td>1564054127</td>\n",
       "      <td>248</td>\n",
       "    </tr>\n",
       "    <tr>\n",
       "      <th>4</th>\n",
       "      <td>PaymentScreenSuccessful</td>\n",
       "      <td>6217807653094995999</td>\n",
       "      <td>1564055322</td>\n",
       "      <td>248</td>\n",
       "    </tr>\n",
       "    <tr>\n",
       "      <th>...</th>\n",
       "      <td>...</td>\n",
       "      <td>...</td>\n",
       "      <td>...</td>\n",
       "      <td>...</td>\n",
       "    </tr>\n",
       "    <tr>\n",
       "      <th>244121</th>\n",
       "      <td>MainScreenAppear</td>\n",
       "      <td>4599628364049201812</td>\n",
       "      <td>1565212345</td>\n",
       "      <td>247</td>\n",
       "    </tr>\n",
       "    <tr>\n",
       "      <th>244122</th>\n",
       "      <td>MainScreenAppear</td>\n",
       "      <td>5849806612437486590</td>\n",
       "      <td>1565212439</td>\n",
       "      <td>246</td>\n",
       "    </tr>\n",
       "    <tr>\n",
       "      <th>244123</th>\n",
       "      <td>MainScreenAppear</td>\n",
       "      <td>5746969938801999050</td>\n",
       "      <td>1565212483</td>\n",
       "      <td>246</td>\n",
       "    </tr>\n",
       "    <tr>\n",
       "      <th>244124</th>\n",
       "      <td>MainScreenAppear</td>\n",
       "      <td>5746969938801999050</td>\n",
       "      <td>1565212498</td>\n",
       "      <td>246</td>\n",
       "    </tr>\n",
       "    <tr>\n",
       "      <th>244125</th>\n",
       "      <td>OffersScreenAppear</td>\n",
       "      <td>5746969938801999050</td>\n",
       "      <td>1565212517</td>\n",
       "      <td>246</td>\n",
       "    </tr>\n",
       "  </tbody>\n",
       "</table>\n",
       "<p>244126 rows × 4 columns</p>\n",
       "</div>"
      ],
      "text/plain": [
       "                      EventName         DeviceIDHash  EventTimestamp  ExpId\n",
       "0              MainScreenAppear  4575588528974610257      1564029816    246\n",
       "1              MainScreenAppear  7416695313311560658      1564053102    246\n",
       "2       PaymentScreenSuccessful  3518123091307005509      1564054127    248\n",
       "3              CartScreenAppear  3518123091307005509      1564054127    248\n",
       "4       PaymentScreenSuccessful  6217807653094995999      1564055322    248\n",
       "...                         ...                  ...             ...    ...\n",
       "244121         MainScreenAppear  4599628364049201812      1565212345    247\n",
       "244122         MainScreenAppear  5849806612437486590      1565212439    246\n",
       "244123         MainScreenAppear  5746969938801999050      1565212483    246\n",
       "244124         MainScreenAppear  5746969938801999050      1565212498    246\n",
       "244125       OffersScreenAppear  5746969938801999050      1565212517    246\n",
       "\n",
       "[244126 rows x 4 columns]"
      ]
     },
     "metadata": {},
     "output_type": "display_data"
    }
   ],
   "source": [
    "#Изучим содержимое таблицы с гипотезами\n",
    "display(data)"
   ]
  },
  {
   "cell_type": "code",
   "execution_count": 4,
   "id": "1c637a79",
   "metadata": {},
   "outputs": [
    {
     "name": "stdout",
     "output_type": "stream",
     "text": [
      "['MainScreenAppear' 'PaymentScreenSuccessful' 'CartScreenAppear'\n",
      " 'OffersScreenAppear' 'Tutorial']\n",
      "[246 248 247]\n"
     ]
    }
   ],
   "source": [
    "#Выведем уникальные значения столбцов EventName и ExpId отдельно\n",
    "print(data['EventName'].unique())\n",
    "print(data['ExpId'].unique())"
   ]
  },
  {
   "cell_type": "markdown",
   "id": "0466a7c6",
   "metadata": {},
   "source": [
    "Итак, мы имеем данные, содержащие **информацию о посещениях, параметрах посещений нашего мобильного приложения**. Датасет состоит из 244126 строк и 4 столбцов. \n",
    "\n",
    "Названия столбцов:\n",
    "- EventName\t- наименование события: \n",
    "        MainScreenAppear - просмотр главный экран\n",
    "        Tutorial - просмотр обучающей части (онбординг)\n",
    "        CartScreenAppear - просмотр корзины\n",
    "        OffersScreenAppear - просмотр предложений \n",
    "        PaymentScreenSuccessful - успешная оплата\n",
    "- DeviceIDHash - уникальный код устройства входа\n",
    "- EventTimestamp - дата и время захода (в миллисекундах)\t\n",
    "- ExpId - группа эксперимента:\n",
    "        246, 247 - две контрольные группы A\n",
    "        248 - экспериментальная группа B"
   ]
  },
  {
   "cell_type": "markdown",
   "id": "a36baed8",
   "metadata": {},
   "source": [
    "## Предобработка данных"
   ]
  },
  {
   "cell_type": "markdown",
   "id": "aaf5098f",
   "metadata": {},
   "source": [
    "Предобработку проведем в несколько этапов:\n",
    "- Переименование названий столбцов на змеиный регистр\n",
    "- Проверка на наличие пропусков\n",
    "- Изменение формата даты и иных типов данных при необходимости\n",
    "- Проверка на явные и неявные дубликаты"
   ]
  },
  {
   "cell_type": "code",
   "execution_count": 5,
   "id": "65764263",
   "metadata": {},
   "outputs": [],
   "source": [
    "#Заменим названия столбцов, чтобы они имели нижний регистр и нижнее подчеркивание\n",
    "data.rename(columns = {'EventName':'event_name',\n",
    "                       'DeviceIDHash':'device_id_hash',\n",
    "                       'EventTimestamp':'event_timestamp',\n",
    "                       'ExpId':'exp_id'}, inplace = True)"
   ]
  },
  {
   "cell_type": "code",
   "execution_count": 6,
   "id": "e52da23d",
   "metadata": {},
   "outputs": [
    {
     "name": "stdout",
     "output_type": "stream",
     "text": [
      "<class 'pandas.core.frame.DataFrame'>\n",
      "RangeIndex: 244126 entries, 0 to 244125\n",
      "Data columns (total 4 columns):\n",
      " #   Column           Non-Null Count   Dtype \n",
      "---  ------           --------------   ----- \n",
      " 0   event_name       244126 non-null  object\n",
      " 1   device_id_hash   244126 non-null  int64 \n",
      " 2   event_timestamp  244126 non-null  int64 \n",
      " 3   exp_id           244126 non-null  int64 \n",
      "dtypes: int64(3), object(1)\n",
      "memory usage: 7.5+ MB\n"
     ]
    }
   ],
   "source": [
    "#Изучим структуру данных\n",
    "data.info()"
   ]
  },
  {
   "cell_type": "markdown",
   "id": "8493d945",
   "metadata": {},
   "source": [
    "Таблица не имеет пропусков. Все типы данных соответствуют содержанию столбцов, но формат даты представляет собой количество секунд, прошедших с полуночи (00:00:00 UTC) 1 января 1970 года. Надо поменять на более удобный формат."
   ]
  },
  {
   "cell_type": "code",
   "execution_count": 7,
   "id": "39384595",
   "metadata": {},
   "outputs": [
    {
     "data": {
      "text/html": [
       "<div>\n",
       "<style scoped>\n",
       "    .dataframe tbody tr th:only-of-type {\n",
       "        vertical-align: middle;\n",
       "    }\n",
       "\n",
       "    .dataframe tbody tr th {\n",
       "        vertical-align: top;\n",
       "    }\n",
       "\n",
       "    .dataframe thead th {\n",
       "        text-align: right;\n",
       "    }\n",
       "</style>\n",
       "<table border=\"1\" class=\"dataframe\">\n",
       "  <thead>\n",
       "    <tr style=\"text-align: right;\">\n",
       "      <th></th>\n",
       "      <th>event_name</th>\n",
       "      <th>device_id_hash</th>\n",
       "      <th>event_timestamp</th>\n",
       "      <th>exp_id</th>\n",
       "    </tr>\n",
       "  </thead>\n",
       "  <tbody>\n",
       "    <tr>\n",
       "      <th>0</th>\n",
       "      <td>MainScreenAppear</td>\n",
       "      <td>4575588528974610257</td>\n",
       "      <td>2019-07-25 04:43:36</td>\n",
       "      <td>246</td>\n",
       "    </tr>\n",
       "    <tr>\n",
       "      <th>1</th>\n",
       "      <td>MainScreenAppear</td>\n",
       "      <td>7416695313311560658</td>\n",
       "      <td>2019-07-25 11:11:42</td>\n",
       "      <td>246</td>\n",
       "    </tr>\n",
       "    <tr>\n",
       "      <th>2</th>\n",
       "      <td>PaymentScreenSuccessful</td>\n",
       "      <td>3518123091307005509</td>\n",
       "      <td>2019-07-25 11:28:47</td>\n",
       "      <td>248</td>\n",
       "    </tr>\n",
       "    <tr>\n",
       "      <th>3</th>\n",
       "      <td>CartScreenAppear</td>\n",
       "      <td>3518123091307005509</td>\n",
       "      <td>2019-07-25 11:28:47</td>\n",
       "      <td>248</td>\n",
       "    </tr>\n",
       "    <tr>\n",
       "      <th>4</th>\n",
       "      <td>PaymentScreenSuccessful</td>\n",
       "      <td>6217807653094995999</td>\n",
       "      <td>2019-07-25 11:48:42</td>\n",
       "      <td>248</td>\n",
       "    </tr>\n",
       "  </tbody>\n",
       "</table>\n",
       "</div>"
      ],
      "text/plain": [
       "                event_name       device_id_hash     event_timestamp  exp_id\n",
       "0         MainScreenAppear  4575588528974610257 2019-07-25 04:43:36     246\n",
       "1         MainScreenAppear  7416695313311560658 2019-07-25 11:11:42     246\n",
       "2  PaymentScreenSuccessful  3518123091307005509 2019-07-25 11:28:47     248\n",
       "3         CartScreenAppear  3518123091307005509 2019-07-25 11:28:47     248\n",
       "4  PaymentScreenSuccessful  6217807653094995999 2019-07-25 11:48:42     248"
      ]
     },
     "execution_count": 7,
     "metadata": {},
     "output_type": "execute_result"
    }
   ],
   "source": [
    "#Формат даты поменяем на YYYY.MM.DD hh:mm:ss\n",
    "data['event_timestamp'] = data['event_timestamp'].astype('datetime64[s]')\n",
    "data.head()"
   ]
  },
  {
   "cell_type": "code",
   "execution_count": 8,
   "id": "bdfdb3f8",
   "metadata": {},
   "outputs": [
    {
     "name": "stdout",
     "output_type": "stream",
     "text": [
      "413\n",
      "0.0016917493425526163\n"
     ]
    }
   ],
   "source": [
    "#Посчитаем число явных дубликатов и выведем их долю\n",
    "print(data.duplicated().sum())\n",
    "print(data.duplicated().sum()/data['event_name'].count())"
   ]
  },
  {
   "cell_type": "markdown",
   "id": "663aa778",
   "metadata": {},
   "source": [
    "Доля явных дубликатов составляет 0,17% от общего числа логов. Такие дубликаты могли возникнуть по техническим причинам - неверно зафиксированное время, либо фиксация нескольких действий в одну временную метку. Поэтому удалять дубликаты не будем."
   ]
  },
  {
   "cell_type": "markdown",
   "id": "aea53217",
   "metadata": {},
   "source": [
    "\n",
    "\n",
    "Неявные дубликаты могли бы содержаться в столбцах event_name и exp_id, но мы ранее при обзоре данных уже выводили их уникальные значения, так что иожеи утверждать, что неявных дубликатов нет: \n",
    "\n",
    "- event_name - наименование события: \n",
    "        MainScreenAppear \n",
    "        Tutorial \n",
    "        CartScreenAppear\n",
    "        OffersScreenAppear \n",
    "        PaymentScreenSuccessful \n",
    "- exp_id - группа эксперимента:\n",
    "        246, 247 - две контрольные группы A\n",
    "        248 - экспериментальная группа B"
   ]
  },
  {
   "cell_type": "code",
   "execution_count": 9,
   "id": "e0eeb06c",
   "metadata": {},
   "outputs": [
    {
     "data": {
      "text/html": [
       "<div>\n",
       "<style scoped>\n",
       "    .dataframe tbody tr th:only-of-type {\n",
       "        vertical-align: middle;\n",
       "    }\n",
       "\n",
       "    .dataframe tbody tr th {\n",
       "        vertical-align: top;\n",
       "    }\n",
       "\n",
       "    .dataframe thead th {\n",
       "        text-align: right;\n",
       "    }\n",
       "</style>\n",
       "<table border=\"1\" class=\"dataframe\">\n",
       "  <thead>\n",
       "    <tr style=\"text-align: right;\">\n",
       "      <th></th>\n",
       "      <th>event_name</th>\n",
       "      <th>device_id_hash</th>\n",
       "      <th>event_timestamp</th>\n",
       "      <th>exp_id</th>\n",
       "      <th>event_date</th>\n",
       "    </tr>\n",
       "  </thead>\n",
       "  <tbody>\n",
       "    <tr>\n",
       "      <th>0</th>\n",
       "      <td>MainScreenAppear</td>\n",
       "      <td>4575588528974610257</td>\n",
       "      <td>2019-07-25 04:43:36</td>\n",
       "      <td>246</td>\n",
       "      <td>2019-07-25 04:43:36</td>\n",
       "    </tr>\n",
       "    <tr>\n",
       "      <th>1</th>\n",
       "      <td>MainScreenAppear</td>\n",
       "      <td>7416695313311560658</td>\n",
       "      <td>2019-07-25 11:11:42</td>\n",
       "      <td>246</td>\n",
       "      <td>2019-07-25 11:11:42</td>\n",
       "    </tr>\n",
       "    <tr>\n",
       "      <th>2</th>\n",
       "      <td>PaymentScreenSuccessful</td>\n",
       "      <td>3518123091307005509</td>\n",
       "      <td>2019-07-25 11:28:47</td>\n",
       "      <td>248</td>\n",
       "      <td>2019-07-25 11:28:47</td>\n",
       "    </tr>\n",
       "    <tr>\n",
       "      <th>3</th>\n",
       "      <td>CartScreenAppear</td>\n",
       "      <td>3518123091307005509</td>\n",
       "      <td>2019-07-25 11:28:47</td>\n",
       "      <td>248</td>\n",
       "      <td>2019-07-25 11:28:47</td>\n",
       "    </tr>\n",
       "    <tr>\n",
       "      <th>4</th>\n",
       "      <td>PaymentScreenSuccessful</td>\n",
       "      <td>6217807653094995999</td>\n",
       "      <td>2019-07-25 11:48:42</td>\n",
       "      <td>248</td>\n",
       "      <td>2019-07-25 11:48:42</td>\n",
       "    </tr>\n",
       "  </tbody>\n",
       "</table>\n",
       "</div>"
      ],
      "text/plain": [
       "                event_name       device_id_hash     event_timestamp  exp_id   \n",
       "0         MainScreenAppear  4575588528974610257 2019-07-25 04:43:36     246  \\\n",
       "1         MainScreenAppear  7416695313311560658 2019-07-25 11:11:42     246   \n",
       "2  PaymentScreenSuccessful  3518123091307005509 2019-07-25 11:28:47     248   \n",
       "3         CartScreenAppear  3518123091307005509 2019-07-25 11:28:47     248   \n",
       "4  PaymentScreenSuccessful  6217807653094995999 2019-07-25 11:48:42     248   \n",
       "\n",
       "           event_date  \n",
       "0 2019-07-25 04:43:36  \n",
       "1 2019-07-25 11:11:42  \n",
       "2 2019-07-25 11:28:47  \n",
       "3 2019-07-25 11:28:47  \n",
       "4 2019-07-25 11:48:42  "
      ]
     },
     "execution_count": 9,
     "metadata": {},
     "output_type": "execute_result"
    }
   ],
   "source": [
    "#Добавим отдельный столбец с датой (без времени)\n",
    "data['event_date'] = pd.to_datetime(data['event_timestamp'])\n",
    "data.head()"
   ]
  },
  {
   "cell_type": "markdown",
   "id": "a1a1b3c3",
   "metadata": {},
   "source": [
    "**Итоги предобработки данных:**\n",
    "\n",
    "- Названия столбцов перевели на змеиный регистр\n",
    "- Пропуски не выявлены\n",
    "- Формат даты и времени изменен на YYYY.MM.DD hh:mm:ss, добавлен столбец с датой в формате YYYY.MM.DD\n",
    "- Выявлены 413 явных дубликатов, их решено оставить; неявных дубликатов нет\n",
    "\n",
    "\n"
   ]
  },
  {
   "cell_type": "markdown",
   "id": "725ba89d",
   "metadata": {},
   "source": [
    "## Изучение и проверка данных"
   ]
  },
  {
   "cell_type": "markdown",
   "id": "0d45b3a6",
   "metadata": {},
   "source": [
    "### События и пользователи"
   ]
  },
  {
   "cell_type": "markdown",
   "id": "a7894f8f",
   "metadata": {},
   "source": [
    "Изучим по отдельности:\n",
    "- Сколько всего событий собрано в логе\n",
    "- Сколько всего пользователей в логе\n",
    "- Сколько в среднем событий приходится на пользователя"
   ]
  },
  {
   "cell_type": "code",
   "execution_count": 10,
   "id": "2ce8bdd9",
   "metadata": {},
   "outputs": [
    {
     "data": {
      "text/plain": [
       "244126"
      ]
     },
     "execution_count": 10,
     "metadata": {},
     "output_type": "execute_result"
    }
   ],
   "source": [
    "#Посчитаем количество событий по уникальному коду устройства\n",
    "data['device_id_hash'].count()"
   ]
  },
  {
   "cell_type": "code",
   "execution_count": 11,
   "id": "6b521800",
   "metadata": {},
   "outputs": [
    {
     "data": {
      "text/plain": [
       "7551"
      ]
     },
     "execution_count": 11,
     "metadata": {},
     "output_type": "execute_result"
    }
   ],
   "source": [
    "#Посчитаем количество уникальных пользователей по уникальному коду устройства\n",
    "data['device_id_hash'].nunique()"
   ]
  },
  {
   "cell_type": "markdown",
   "id": "85362dce",
   "metadata": {},
   "source": [
    "Всего за заданный период приложение собрало 244126 событий, 7551 уникальных пользователей."
   ]
  },
  {
   "cell_type": "code",
   "execution_count": 12,
   "id": "1fbf6177",
   "metadata": {},
   "outputs": [
    {
     "name": "stdout",
     "output_type": "stream",
     "text": [
      "32.33028737915508\n",
      "20.0\n",
      "0    5\n",
      "Name: event_name, dtype: int64\n",
      "2308\n"
     ]
    }
   ],
   "source": [
    "#Создадим сводную таблицу по пользователям чтобы посмотреть статистику\n",
    "user_pivot = data.pivot_table(\n",
    "    index='device_id_hash', values='event_name', aggfunc='count').reset_index()\n",
    "print(user_pivot['event_name'].mean())\n",
    "print(user_pivot['event_name'].median())\n",
    "print(user_pivot['event_name'].mode())\n",
    "print(user_pivot['event_name'].max())"
   ]
  },
  {
   "cell_type": "markdown",
   "id": "ae499c04",
   "metadata": {},
   "source": [
    "В среднем на каждого пользователя приходится 32 события, но медианное значение - 20 событий. Есть пользователи с аномально большим количеством событий, т.к. максимальное количество событий на одного пользователя - 2308. Чаще всего (значение моды) один пользователь прошел через 5 событий. "
   ]
  },
  {
   "cell_type": "code",
   "execution_count": 13,
   "id": "b8b2432e",
   "metadata": {},
   "outputs": [
    {
     "data": {
      "text/plain": [
       "Text(0, 0.5, 'Частота наблюдений')"
      ]
     },
     "execution_count": 13,
     "metadata": {},
     "output_type": "execute_result"
    },
    {
     "data": {
      "image/png": "[encoded data removed]",
      "text/plain": [
       "<Figure size 1200x500 with 1 Axes>"
      ]
     },
     "metadata": {},
     "output_type": "display_data"
    }
   ],
   "source": [
    "#Проверим как распределены события на пользователей. Сделаем срез от 0 до 250 ед.\n",
    "plt.figure(figsize=(12,5))\n",
    "user_pivot['event_name'].hist(range=(0,250), bins=50)\n",
    "plt.xlabel('Количество событий на одного пользователя')\n",
    "plt.ylabel('Частота наблюдений')"
   ]
  },
  {
   "cell_type": "code",
   "execution_count": 14,
   "id": "b43b55ed",
   "metadata": {},
   "outputs": [
    {
     "data": {
      "text/plain": [
       "array([ 89. , 200.5])"
      ]
     },
     "execution_count": 14,
     "metadata": {},
     "output_type": "execute_result"
    }
   ],
   "source": [
    "np.percentile(user_pivot['event_name'], [95,99])"
   ]
  },
  {
   "cell_type": "markdown",
   "id": "514ab4d6",
   "metadata": {},
   "source": [
    "Имеем ассиметричное распределение c длинным хвостом. Всего 5% пользователей имеют события в количестве больше 89 ед., и только 1% - более 200 ед.\n",
    "\n",
    "Аномальные значения удалять не будем, т.к. специфика бизнеса и сам тест не подразумевает нормальное количество пользовани продуктом. При удалении аномалий мы можем потерять важные для исследования детали. "
   ]
  },
  {
   "cell_type": "markdown",
   "id": "b8f43bd0",
   "metadata": {},
   "source": [
    "### Временные параметры"
   ]
  },
  {
   "cell_type": "markdown",
   "id": "16e7668d",
   "metadata": {},
   "source": [
    "Изучим какой временной период имеем в данных и распределение событий по датам. Технически в логи новых дней по некоторым пользователям могут «доезжать» события из прошлого — это может «перекашивать данные». Определим с какой даты начинаются актуальные данные."
   ]
  },
  {
   "cell_type": "code",
   "execution_count": 15,
   "id": "18006b61",
   "metadata": {},
   "outputs": [
    {
     "name": "stdout",
     "output_type": "stream",
     "text": [
      "Начало периода: 2019-07-25 04:43:36\n",
      "Конец периода: 2019-08-07 21:15:17\n",
      "Длительность периода: 13 days 16:31:41\n"
     ]
    }
   ],
   "source": [
    "print('Начало периода:', data['event_timestamp'].min())\n",
    "print('Конец периода:', data['event_timestamp'].max())\n",
    "print('Длительность периода:', data['event_timestamp'].max()-data['event_timestamp'].min())"
   ]
  },
  {
   "cell_type": "code",
   "execution_count": 16,
   "id": "6736d750",
   "metadata": {},
   "outputs": [
    {
     "data": {
      "text/plain": [
       "Text(0, 0.5, 'Частота наблюдений')"
      ]
     },
     "execution_count": 16,
     "metadata": {},
     "output_type": "execute_result"
    },
    {
     "data": {
      "image/png": "[encoded data removed]",
      "text/plain": [
       "<Figure size 1200x500 with 1 Axes>"
      ]
     },
     "metadata": {},
     "output_type": "display_data"
    }
   ],
   "source": [
    "#Проверим как распределены события на даты на графике\n",
    "plt.figure(figsize=(12,5))\n",
    "data['event_timestamp'].hist(bins=100)\n",
    "plt.xlabel('Количество событий на дату')\n",
    "plt.ylabel('Частота наблюдений')"
   ]
  },
  {
   "cell_type": "code",
   "execution_count": 17,
   "id": "0d7068da",
   "metadata": {},
   "outputs": [
    {
     "data": {
      "text/plain": [
       "event_date\n",
       "2019-08-01 14:40:35    9\n",
       "2019-08-04 16:23:19    9\n",
       "2019-08-05 15:00:27    8\n",
       "2019-08-07 11:18:41    8\n",
       "2019-08-04 09:44:06    8\n",
       "                      ..\n",
       "2019-08-03 13:10:24    1\n",
       "2019-08-03 13:10:43    1\n",
       "2019-08-03 13:10:44    1\n",
       "2019-08-03 13:10:45    1\n",
       "2019-08-07 21:15:17    1\n",
       "Name: count, Length: 176654, dtype: int64"
      ]
     },
     "metadata": {},
     "output_type": "display_data"
    }
   ],
   "source": [
    "#Проверим как распределены события на даты в табличном виде\n",
    "display(data['event_date'].value_counts())"
   ]
  },
  {
   "cell_type": "markdown",
   "id": "f7b2a2a8",
   "metadata": {},
   "source": [
    "По графику и таблице видно, что актуальным временным промежутком можно считать период с 01.08.2019 по 07.08.2019 - 7 дней."
   ]
  },
  {
   "cell_type": "code",
   "execution_count": 18,
   "id": "a1863490",
   "metadata": {},
   "outputs": [
    {
     "data": {
      "text/plain": [
       "event_date\n",
       "2019-08-01 14:40:35    9\n",
       "2019-08-04 16:23:19    9\n",
       "2019-08-07 15:24:29    8\n",
       "2019-08-05 15:00:27    8\n",
       "2019-08-04 09:44:06    8\n",
       "                      ..\n",
       "2019-08-03 14:42:56    1\n",
       "2019-08-03 14:42:54    1\n",
       "2019-08-03 14:42:52    1\n",
       "2019-08-03 14:42:51    1\n",
       "2019-08-07 21:15:17    1\n",
       "Name: count, Length: 174044, dtype: int64"
      ]
     },
     "execution_count": 18,
     "metadata": {},
     "output_type": "execute_result"
    }
   ],
   "source": [
    "#Обрежем наши данные до актуального периода\n",
    "actual_data = data[data['event_date']>='2019-08-01']\n",
    "actual_data['event_date'].value_counts()"
   ]
  },
  {
   "cell_type": "code",
   "execution_count": 19,
   "id": "f6eac29f",
   "metadata": {},
   "outputs": [
    {
     "data": {
      "text/plain": [
       "Text(0, 0.5, 'Частота наблюдений')"
      ]
     },
     "execution_count": 19,
     "metadata": {},
     "output_type": "execute_result"
    },
    {
     "data": {
      "image/png": "[encoded data removed]",
      "text/plain": [
       "<Figure size 1200x500 with 1 Axes>"
      ]
     },
     "metadata": {},
     "output_type": "display_data"
    }
   ],
   "source": [
    "#Проверим как распределены события на даты на графике после того, как мы отбросили старые данные\n",
    "plt.figure(figsize=(12,5))\n",
    "actual_data['event_timestamp'].hist(bins=80)\n",
    "plt.xlabel('Количество событий на дату')\n",
    "plt.ylabel('Частота наблюдений')"
   ]
  },
  {
   "cell_type": "markdown",
   "id": "ad55f7c9",
   "metadata": {},
   "source": [
    "Теперь события распределены по временному промежутку с 01.08.2019 по 07.08.2019 равномерно. Волнообразность гистограммы объясняется тем, что приложением обычно не пользуются ночью и ранним утром."
   ]
  },
  {
   "cell_type": "code",
   "execution_count": 20,
   "id": "69fb6440",
   "metadata": {},
   "outputs": [
    {
     "name": "stdout",
     "output_type": "stream",
     "text": [
      "241298\n",
      "-2828\n",
      "0.011584181938834814\n"
     ]
    }
   ],
   "source": [
    "#Посчитаем количество событий в актуальной таблице и долю их потери после преобразования\n",
    "print(actual_data['device_id_hash'].count())\n",
    "print(actual_data['device_id_hash'].count()-data['device_id_hash'].count())\n",
    "print(1-actual_data['device_id_hash'].count()/data['device_id_hash'].count())"
   ]
  },
  {
   "cell_type": "code",
   "execution_count": 21,
   "id": "4dbf4e72",
   "metadata": {},
   "outputs": [
    {
     "name": "stdout",
     "output_type": "stream",
     "text": [
      "7534\n",
      "-17\n",
      "0.0022513574361011646\n"
     ]
    }
   ],
   "source": [
    "#Посчитаем количество пользователей в актуальной таблице и долю их потери после преобразования\n",
    "print(actual_data['device_id_hash'].nunique())\n",
    "print(actual_data['device_id_hash'].nunique()-data['device_id_hash'].nunique())\n",
    "print(1-actual_data['device_id_hash'].nunique()/data['device_id_hash'].nunique())"
   ]
  },
  {
   "cell_type": "markdown",
   "id": "1d8d8749",
   "metadata": {},
   "source": [
    "После того как мы отбросили старые данные, было потеряно 2828 событий (1,15%) и 17 уникальных пользователей (0,22%). Это небольшие допустимые потери."
   ]
  },
  {
   "cell_type": "markdown",
   "id": "fa7c50d8",
   "metadata": {},
   "source": [
    "### Группы и пользователи"
   ]
  },
  {
   "cell_type": "markdown",
   "id": "cc018d92",
   "metadata": {},
   "source": [
    "Удостоверимся, что у нас есть события и пользователи на все три группы:\n",
    "-  246, 247 - две контрольные группы A\n",
    "- 248 - экспериментальная группа B"
   ]
  },
  {
   "cell_type": "code",
   "execution_count": 22,
   "id": "db0b80a2",
   "metadata": {},
   "outputs": [
    {
     "data": {
      "text/plain": [
       "exp_id\n",
       "248    84726\n",
       "246    79425\n",
       "247    77147\n",
       "Name: count, dtype: int64"
      ]
     },
     "execution_count": 22,
     "metadata": {},
     "output_type": "execute_result"
    }
   ],
   "source": [
    "#Распределение событий по видам групп\n",
    "actual_data['exp_id'].value_counts()"
   ]
  },
  {
   "cell_type": "code",
   "execution_count": 23,
   "id": "5280912b",
   "metadata": {},
   "outputs": [
    {
     "data": {
      "text/html": [
       "<div>\n",
       "<style scoped>\n",
       "    .dataframe tbody tr th:only-of-type {\n",
       "        vertical-align: middle;\n",
       "    }\n",
       "\n",
       "    .dataframe tbody tr th {\n",
       "        vertical-align: top;\n",
       "    }\n",
       "\n",
       "    .dataframe thead th {\n",
       "        text-align: right;\n",
       "    }\n",
       "</style>\n",
       "<table border=\"1\" class=\"dataframe\">\n",
       "  <thead>\n",
       "    <tr style=\"text-align: right;\">\n",
       "      <th></th>\n",
       "      <th>exp_id</th>\n",
       "      <th>device_id_hash</th>\n",
       "    </tr>\n",
       "  </thead>\n",
       "  <tbody>\n",
       "    <tr>\n",
       "      <th>0</th>\n",
       "      <td>248</td>\n",
       "      <td>2537</td>\n",
       "    </tr>\n",
       "    <tr>\n",
       "      <th>1</th>\n",
       "      <td>247</td>\n",
       "      <td>2513</td>\n",
       "    </tr>\n",
       "    <tr>\n",
       "      <th>2</th>\n",
       "      <td>246</td>\n",
       "      <td>2484</td>\n",
       "    </tr>\n",
       "  </tbody>\n",
       "</table>\n",
       "</div>"
      ],
      "text/plain": [
       "   exp_id  device_id_hash\n",
       "0     248            2537\n",
       "1     247            2513\n",
       "2     246            2484"
      ]
     },
     "execution_count": 23,
     "metadata": {},
     "output_type": "execute_result"
    }
   ],
   "source": [
    "#Распределение уникальных пользователей по видам групп\n",
    "actual_data.pivot_table(index='exp_id', values='device_id_hash', aggfunc='nunique').sort_values(\n",
    "    by='device_id_hash', ascending=False).reset_index()"
   ]
  },
  {
   "cell_type": "markdown",
   "id": "071aa7dd",
   "metadata": {},
   "source": [
    "На все три группы имеются и события, и пользователи. В их распределении нет сильных перекосов.\n",
    "Теперь нужно проверить, не попали ли какие-либо пользователи в несколько групп сразу."
   ]
  },
  {
   "cell_type": "code",
   "execution_count": 24,
   "id": "84de68e1",
   "metadata": {
    "scrolled": true
   },
   "outputs": [
    {
     "name": "stdout",
     "output_type": "stream",
     "text": [
      "<class 'pandas.core.frame.DataFrame'>\n",
      "Index: 0 entries\n",
      "Data columns (total 2 columns):\n",
      " #   Column          Non-Null Count  Dtype\n",
      "---  ------          --------------  -----\n",
      " 0   device_id_hash  0 non-null      int64\n",
      " 1   exp_id          0 non-null      int64\n",
      "dtypes: int64(2)\n",
      "memory usage: 0.0 bytes\n"
     ]
    }
   ],
   "source": [
    "#Проверяем наличие дулбирующихся пользоватетей\n",
    "duplicated_users = actual_data.groupby('device_id_hash').agg({'exp_id':'nunique'}).reset_index()\n",
    "duplicated_users[duplicated_users['exp_id']>=2].info()"
   ]
  },
  {
   "cell_type": "markdown",
   "id": "cebc652e",
   "metadata": {},
   "source": [
    "В данных нет пользователей, попавших сразу в несколько групп."
   ]
  },
  {
   "cell_type": "markdown",
   "id": "30d99826",
   "metadata": {},
   "source": [
    "### Промежуточные выводы"
   ]
  },
  {
   "cell_type": "markdown",
   "id": "a672a67d",
   "metadata": {},
   "source": [
    "- В среднем на каждого пользователя приходится 32 события, медианное значение - 20 событий. Есть пользователи с аномально большим количеством событий, максимальное количество событий на одного пользователя - 2308. Чаще всего один пользователь прошел через 5 событий. Аномальные значения удалять не будем, так мы можем потерять важные для исследования детали.\n",
    "\n",
    "- Основная часть данных собрана с 01.08.2019 по 07.08.2019, поэтому июльские данные были вырезаны.\n",
    "\n",
    "- У нас есть три группы: 246, 247 - две контрольные группы A, 248 - экспериментальная группа B. На все три группы есть и события, и пользователи. Нет пользователней, попавших в несколько групп сразу."
   ]
  },
  {
   "cell_type": "markdown",
   "id": "716859ed",
   "metadata": {},
   "source": [
    "## Исследовательский анализ "
   ]
  },
  {
   "cell_type": "markdown",
   "id": "51aa8091",
   "metadata": {},
   "source": [
    "### Виды событий"
   ]
  },
  {
   "cell_type": "markdown",
   "id": "91ed9e8a",
   "metadata": {},
   "source": [
    "Мы уже знаем, что приложение фиксирует 5 видов событий:\n",
    "1. MainScreenAppear - просмотр главного экрана\n",
    "2. Tutorial - просмотр обучающей части (онбординг)\n",
    "3. CartScreenAppear - просмотр корзины\n",
    "4. OffersScreenAppear - просмотр предложений \n",
    "5. PaymentScreenSuccessful - успешная оплата"
   ]
  },
  {
   "cell_type": "markdown",
   "id": "a6f80a4f",
   "metadata": {},
   "source": [
    "Посмотрим как часто встречаются события в разрезе по видам."
   ]
  },
  {
   "cell_type": "code",
   "execution_count": 25,
   "id": "65a133ca",
   "metadata": {},
   "outputs": [
    {
     "data": {
      "text/plain": [
       "event_name\n",
       "MainScreenAppear           117431\n",
       "OffersScreenAppear          46350\n",
       "CartScreenAppear            42365\n",
       "PaymentScreenSuccessful     34113\n",
       "Tutorial                     1039\n",
       "Name: count, dtype: int64"
      ]
     },
     "execution_count": 25,
     "metadata": {},
     "output_type": "execute_result"
    }
   ],
   "source": [
    "#Посчитаем сколько событий приходится на каждый вид\n",
    "actual_data['event_name'].value_counts()"
   ]
  },
  {
   "cell_type": "code",
   "execution_count": 26,
   "id": "37f1a485",
   "metadata": {},
   "outputs": [
    {
     "data": {
      "text/plain": [
       "Text(0, 0.5, 'Виды событий')"
      ]
     },
     "execution_count": 26,
     "metadata": {},
     "output_type": "execute_result"
    },
    {
     "data": {
      "image/png": "[encoded data removed]",
      "text/plain": [
       "<Figure size 1200x500 with 1 Axes>"
      ]
     },
     "metadata": {},
     "output_type": "display_data"
    }
   ],
   "source": [
    "#Визуализируем на графике распределение событи по видам\n",
    "#Создадим сводную таблицу\n",
    "event_pivot = actual_data.pivot_table(\n",
    "    index='event_name', values='device_id_hash', aggfunc='count').sort_values(\n",
    "    by='device_id_hash', ascending=False).reset_index().rename_axis(None, axis=1)\n",
    "event_pivot.columns = ['event_name', 'events']\n",
    "\n",
    "#Выведем график c событиями по видам\n",
    "plt.figure(figsize=(12,5))\n",
    "plt.title('Распределение событий по видам')\n",
    "plt.grid(True)\n",
    "sns.barplot(data=event_pivot, color = 'blue', x='events', y='event_name')\n",
    "plt.xlabel('Количество событий')\n",
    "plt.ylabel('Виды событий')"
   ]
  },
  {
   "cell_type": "markdown",
   "id": "fc96fdf3",
   "metadata": {},
   "source": [
    "Посмотрим сколько пользователей совершали каждое из этих событий, а также плсчитаем долю от общего числа пользователей."
   ]
  },
  {
   "cell_type": "code",
   "execution_count": 27,
   "id": "5a9a5591",
   "metadata": {},
   "outputs": [
    {
     "name": "stdout",
     "output_type": "stream",
     "text": [
      "                event_name  users\n",
      "0         MainScreenAppear   7419\n",
      "1       OffersScreenAppear   4593\n",
      "2         CartScreenAppear   3734\n",
      "3  PaymentScreenSuccessful   3539\n",
      "4                 Tutorial    840\n"
     ]
    },
    {
     "data": {
      "text/plain": [
       "Text(0, 0.5, 'Виды событий')"
      ]
     },
     "execution_count": 27,
     "metadata": {},
     "output_type": "execute_result"
    },
    {
     "data": {
      "image/png": "[encoded data removed]",
      "text/plain": [
       "<Figure size 1200x500 with 1 Axes>"
      ]
     },
     "metadata": {},
     "output_type": "display_data"
    }
   ],
   "source": [
    "#Создадим сводную таблицу\n",
    "event_users_pivot = actual_data.pivot_table(\n",
    "    index='event_name', values='device_id_hash', aggfunc='nunique').sort_values(\n",
    "    by='device_id_hash', ascending=False).reset_index()\n",
    "event_users_pivot.columns = ['event_name', 'users']\n",
    "print(event_users_pivot)\n",
    "\n",
    "#Выведем график c числом уникальных пользователей по видам событий\n",
    "plt.figure(figsize=(12,5))\n",
    "plt.title('Распределение уникальных пользователей по видам событий')\n",
    "plt.grid(True)\n",
    "sns.barplot(data=event_users_pivot, color = 'red', x='users', y='event_name')\n",
    "plt.xlabel('Количество уникальных пользователей')\n",
    "plt.ylabel('Виды событий')"
   ]
  },
  {
   "cell_type": "code",
   "execution_count": 28,
   "id": "fc5b1d8b",
   "metadata": {},
   "outputs": [
    {
     "name": "stdout",
     "output_type": "stream",
     "text": [
      "                event_name  users  users %\n",
      "0         MainScreenAppear   7419    98.47\n",
      "1       OffersScreenAppear   4593    60.96\n",
      "2         CartScreenAppear   3734    49.56\n",
      "3  PaymentScreenSuccessful   3539    46.97\n",
      "4                 Tutorial    840    11.15\n"
     ]
    },
    {
     "data": {
      "text/plain": [
       "Text(0, 0.5, 'Виды событий')"
      ]
     },
     "execution_count": 28,
     "metadata": {},
     "output_type": "execute_result"
    },
    {
     "data": {
      "image/png": "[encoded data removed]",
      "text/plain": [
       "<Figure size 1200x500 with 1 Axes>"
      ]
     },
     "metadata": {},
     "output_type": "display_data"
    }
   ],
   "source": [
    "#Добавим столбец с долей пользователей, которые хоть раз совершали событие\n",
    "event_users_pivot['users %'] = round(event_users_pivot['users'] / actual_data['device_id_hash'].nunique() * 100, 2)\n",
    "print(event_users_pivot)\n",
    "\n",
    "#Выведем график с долей пользователей, которые хоть раз совершали событие\n",
    "plt.figure(figsize=(12,5))\n",
    "plt.title('Распределение долей пользователей, которые хоть раз совершали событие')\n",
    "plt.grid(True)\n",
    "sns.barplot(data=event_users_pivot, color = 'green', x='users %', y='event_name')\n",
    "plt.xlabel('Доля пользователей, которые хоть раз совершали событие, %')\n",
    "plt.ylabel('Виды событий')"
   ]
  },
  {
   "cell_type": "code",
   "execution_count": 29,
   "id": "4b7534cd",
   "metadata": {},
   "outputs": [
    {
     "data": {
      "text/html": [
       "<div>\n",
       "<style scoped>\n",
       "    .dataframe tbody tr th:only-of-type {\n",
       "        vertical-align: middle;\n",
       "    }\n",
       "\n",
       "    .dataframe tbody tr th {\n",
       "        vertical-align: top;\n",
       "    }\n",
       "\n",
       "    .dataframe thead th {\n",
       "        text-align: right;\n",
       "    }\n",
       "</style>\n",
       "<table border=\"1\" class=\"dataframe\">\n",
       "  <thead>\n",
       "    <tr style=\"text-align: right;\">\n",
       "      <th></th>\n",
       "      <th>event_name</th>\n",
       "      <th>events</th>\n",
       "      <th>users</th>\n",
       "      <th>users %</th>\n",
       "    </tr>\n",
       "  </thead>\n",
       "  <tbody>\n",
       "    <tr>\n",
       "      <th>0</th>\n",
       "      <td>MainScreenAppear</td>\n",
       "      <td>117431</td>\n",
       "      <td>7419</td>\n",
       "      <td>98.47</td>\n",
       "    </tr>\n",
       "    <tr>\n",
       "      <th>1</th>\n",
       "      <td>OffersScreenAppear</td>\n",
       "      <td>46350</td>\n",
       "      <td>4593</td>\n",
       "      <td>60.96</td>\n",
       "    </tr>\n",
       "    <tr>\n",
       "      <th>2</th>\n",
       "      <td>CartScreenAppear</td>\n",
       "      <td>42365</td>\n",
       "      <td>3734</td>\n",
       "      <td>49.56</td>\n",
       "    </tr>\n",
       "    <tr>\n",
       "      <th>3</th>\n",
       "      <td>PaymentScreenSuccessful</td>\n",
       "      <td>34113</td>\n",
       "      <td>3539</td>\n",
       "      <td>46.97</td>\n",
       "    </tr>\n",
       "    <tr>\n",
       "      <th>4</th>\n",
       "      <td>Tutorial</td>\n",
       "      <td>1039</td>\n",
       "      <td>840</td>\n",
       "      <td>11.15</td>\n",
       "    </tr>\n",
       "  </tbody>\n",
       "</table>\n",
       "</div>"
      ],
      "text/plain": [
       "                event_name  events  users  users %\n",
       "0         MainScreenAppear  117431   7419    98.47\n",
       "1       OffersScreenAppear   46350   4593    60.96\n",
       "2         CartScreenAppear   42365   3734    49.56\n",
       "3  PaymentScreenSuccessful   34113   3539    46.97\n",
       "4                 Tutorial    1039    840    11.15"
      ]
     },
     "execution_count": 29,
     "metadata": {},
     "output_type": "execute_result"
    }
   ],
   "source": [
    "#Сведем обе таблицы в одну\n",
    "event_data = event_pivot.merge(event_users_pivot, on='event_name')\n",
    "event_data"
   ]
  },
  {
   "cell_type": "markdown",
   "id": "1cf7d350",
   "metadata": {},
   "source": [
    "### Воронка"
   ]
  },
  {
   "cell_type": "markdown",
   "id": "455b2646",
   "metadata": {},
   "source": [
    "#### Порядок событий в воронке"
   ]
  },
  {
   "cell_type": "markdown",
   "id": "f4a55b80",
   "metadata": {},
   "source": [
    "Смоделируем воронку, предположив в каком порядке происходят события.\n",
    "\n",
    "В предыдущем этапе мы выяснили, что **при сортировке по убыванию и количества самих событий, и пользователей, и доле пользователей события складываются в такую очередность:**\n",
    "\n",
    "1. MainScreenAppear - просмотр главного экрана\n",
    "2. OffersScreenAppear - просмотр предложений\n",
    "3. CartScreenAppear - просмотр корзины\n",
    "4. PaymentScreenSuccessful - успешная оплата\n",
    "5. Tutorial - просмотр обучающей части (онбординг)\n",
    "\n",
    "Однако этап Tutorial (просмотр обучающей части (онбординг)) набирает слишком низкую популярность среди всех видов событий - всего 11% пользователей проходят через него.\n",
    "\n",
    "Обычно этап с просмотром обучающей части встречается сразу при входе в приложение после установки до просмотра главного экрана. Обучающая часть включает в себя изучение интерфейса приложения, может быть оформлен в виде \"слайдов\", всплывающих окошек, указателей и т.п. Соответственно логично предположить, что этап прошли совершенно новые пользователи, которые попали в эксперимент. Tutorial не является элементом покупательской воронки, этот этап можно удалить."
   ]
  },
  {
   "cell_type": "code",
   "execution_count": 30,
   "id": "bc1eca38",
   "metadata": {},
   "outputs": [
    {
     "data": {
      "text/html": [
       "<div>\n",
       "<style scoped>\n",
       "    .dataframe tbody tr th:only-of-type {\n",
       "        vertical-align: middle;\n",
       "    }\n",
       "\n",
       "    .dataframe tbody tr th {\n",
       "        vertical-align: top;\n",
       "    }\n",
       "\n",
       "    .dataframe thead th {\n",
       "        text-align: right;\n",
       "    }\n",
       "</style>\n",
       "<table border=\"1\" class=\"dataframe\">\n",
       "  <thead>\n",
       "    <tr style=\"text-align: right;\">\n",
       "      <th></th>\n",
       "      <th>event_name</th>\n",
       "      <th>events</th>\n",
       "      <th>users</th>\n",
       "      <th>users %</th>\n",
       "    </tr>\n",
       "  </thead>\n",
       "  <tbody>\n",
       "    <tr>\n",
       "      <th>0</th>\n",
       "      <td>MainScreenAppear</td>\n",
       "      <td>117431</td>\n",
       "      <td>7419</td>\n",
       "      <td>98.47</td>\n",
       "    </tr>\n",
       "    <tr>\n",
       "      <th>1</th>\n",
       "      <td>OffersScreenAppear</td>\n",
       "      <td>46350</td>\n",
       "      <td>4593</td>\n",
       "      <td>60.96</td>\n",
       "    </tr>\n",
       "    <tr>\n",
       "      <th>2</th>\n",
       "      <td>CartScreenAppear</td>\n",
       "      <td>42365</td>\n",
       "      <td>3734</td>\n",
       "      <td>49.56</td>\n",
       "    </tr>\n",
       "    <tr>\n",
       "      <th>3</th>\n",
       "      <td>PaymentScreenSuccessful</td>\n",
       "      <td>34113</td>\n",
       "      <td>3539</td>\n",
       "      <td>46.97</td>\n",
       "    </tr>\n",
       "  </tbody>\n",
       "</table>\n",
       "</div>"
      ],
      "text/plain": [
       "                event_name  events  users  users %\n",
       "0         MainScreenAppear  117431   7419    98.47\n",
       "1       OffersScreenAppear   46350   4593    60.96\n",
       "2         CartScreenAppear   42365   3734    49.56\n",
       "3  PaymentScreenSuccessful   34113   3539    46.97"
      ]
     },
     "execution_count": 30,
     "metadata": {},
     "output_type": "execute_result"
    }
   ],
   "source": [
    "#Убираем из воронки вид события Tutorial\n",
    "event_data = event_data[event_data['event_name']!='Tutorial']\n",
    "event_data"
   ]
  },
  {
   "cell_type": "code",
   "execution_count": 51,
   "id": "71e17289",
   "metadata": {},
   "outputs": [
    {
     "data": {
      "application/vnd.plotly.v1+json": {
       "config": {
        "plotlyServerURL": "https://plot.ly"
       },
       "data": [
        {
         "type": "funnel",
         "x": [
          7419,
          4593,
          3734,
          3539
         ],
         "y": [
          "MainScreenAppear",
          "OffersScreenAppear",
          "CartScreenAppear",
          "PaymentScreenSuccessful"
         ]
        }
       ],
       "layout": {
        "template": {
         "data": {
          "bar": [
           {
            "error_x": {
             "color": "#2a3f5f"
            },
            "error_y": {
             "color": "#2a3f5f"
            },
            "marker": {
             "line": {
              "color": "#E5ECF6",
              "width": 0.5
             },
             "pattern": {
              "fillmode": "overlay",
              "size": 10,
              "solidity": 0.2
             }
            },
            "type": "bar"
           }
          ],
          "barpolar": [
           {
            "marker": {
             "line": {
              "color": "#E5ECF6",
              "width": 0.5
             },
             "pattern": {
              "fillmode": "overlay",
              "size": 10,
              "solidity": 0.2
             }
            },
            "type": "barpolar"
           }
          ],
          "carpet": [
           {
            "aaxis": {
             "endlinecolor": "#2a3f5f",
             "gridcolor": "white",
             "linecolor": "white",
             "minorgridcolor": "white",
             "startlinecolor": "#2a3f5f"
            },
            "baxis": {
             "endlinecolor": "#2a3f5f",
             "gridcolor": "white",
             "linecolor": "white",
             "minorgridcolor": "white",
             "startlinecolor": "#2a3f5f"
            },
            "type": "carpet"
           }
          ],
          "choropleth": [
           {
            "colorbar": {
             "outlinewidth": 0,
             "ticks": ""
            },
            "type": "choropleth"
           }
          ],
          "contour": [
           {
            "colorbar": {
             "outlinewidth": 0,
             "ticks": ""
            },
            "colorscale": [
             [
              0,
              "#0d0887"
             ],
             [
              0.1111111111111111,
              "#46039f"
             ],
             [
              0.2222222222222222,
              "#7201a8"
             ],
             [
              0.3333333333333333,
              "#9c179e"
             ],
             [
              0.4444444444444444,
              "#bd3786"
             ],
             [
              0.5555555555555556,
              "#d8576b"
             ],
             [
              0.6666666666666666,
              "#ed7953"
             ],
             [
              0.7777777777777778,
              "#fb9f3a"
             ],
             [
              0.8888888888888888,
              "#fdca26"
             ],
             [
              1,
              "#f0f921"
             ]
            ],
            "type": "contour"
           }
          ],
          "contourcarpet": [
           {
            "colorbar": {
             "outlinewidth": 0,
             "ticks": ""
            },
            "type": "contourcarpet"
           }
          ],
          "heatmap": [
           {
            "colorbar": {
             "outlinewidth": 0,
             "ticks": ""
            },
            "colorscale": [
             [
              0,
              "#0d0887"
             ],
             [
              0.1111111111111111,
              "#46039f"
             ],
             [
              0.2222222222222222,
              "#7201a8"
             ],
             [
              0.3333333333333333,
              "#9c179e"
             ],
             [
              0.4444444444444444,
              "#bd3786"
             ],
             [
              0.5555555555555556,
              "#d8576b"
             ],
             [
              0.6666666666666666,
              "#ed7953"
             ],
             [
              0.7777777777777778,
              "#fb9f3a"
             ],
             [
              0.8888888888888888,
              "#fdca26"
             ],
             [
              1,
              "#f0f921"
             ]
            ],
            "type": "heatmap"
           }
          ],
          "heatmapgl": [
           {
            "colorbar": {
             "outlinewidth": 0,
             "ticks": ""
            },
            "colorscale": [
             [
              0,
              "#0d0887"
             ],
             [
              0.1111111111111111,
              "#46039f"
             ],
             [
              0.2222222222222222,
              "#7201a8"
             ],
             [
              0.3333333333333333,
              "#9c179e"
             ],
             [
              0.4444444444444444,
              "#bd3786"
             ],
             [
              0.5555555555555556,
              "#d8576b"
             ],
             [
              0.6666666666666666,
              "#ed7953"
             ],
             [
              0.7777777777777778,
              "#fb9f3a"
             ],
             [
              0.8888888888888888,
              "#fdca26"
             ],
             [
              1,
              "#f0f921"
             ]
            ],
            "type": "heatmapgl"
           }
          ],
          "histogram": [
           {
            "marker": {
             "pattern": {
              "fillmode": "overlay",
              "size": 10,
              "solidity": 0.2
             }
            },
            "type": "histogram"
           }
          ],
          "histogram2d": [
           {
            "colorbar": {
             "outlinewidth": 0,
             "ticks": ""
            },
            "colorscale": [
             [
              0,
              "#0d0887"
             ],
             [
              0.1111111111111111,
              "#46039f"
             ],
             [
              0.2222222222222222,
              "#7201a8"
             ],
             [
              0.3333333333333333,
              "#9c179e"
             ],
             [
              0.4444444444444444,
              "#bd3786"
             ],
             [
              0.5555555555555556,
              "#d8576b"
             ],
             [
              0.6666666666666666,
              "#ed7953"
             ],
             [
              0.7777777777777778,
              "#fb9f3a"
             ],
             [
              0.8888888888888888,
              "#fdca26"
             ],
             [
              1,
              "#f0f921"
             ]
            ],
            "type": "histogram2d"
           }
          ],
          "histogram2dcontour": [
           {
            "colorbar": {
             "outlinewidth": 0,
             "ticks": ""
            },
            "colorscale": [
             [
              0,
              "#0d0887"
             ],
             [
              0.1111111111111111,
              "#46039f"
             ],
             [
              0.2222222222222222,
              "#7201a8"
             ],
             [
              0.3333333333333333,
              "#9c179e"
             ],
             [
              0.4444444444444444,
              "#bd3786"
             ],
             [
              0.5555555555555556,
              "#d8576b"
             ],
             [
              0.6666666666666666,
              "#ed7953"
             ],
             [
              0.7777777777777778,
              "#fb9f3a"
             ],
             [
              0.8888888888888888,
              "#fdca26"
             ],
             [
              1,
              "#f0f921"
             ]
            ],
            "type": "histogram2dcontour"
           }
          ],
          "mesh3d": [
           {
            "colorbar": {
             "outlinewidth": 0,
             "ticks": ""
            },
            "type": "mesh3d"
           }
          ],
          "parcoords": [
           {
            "line": {
             "colorbar": {
              "outlinewidth": 0,
              "ticks": ""
             }
            },
            "type": "parcoords"
           }
          ],
          "pie": [
           {
            "automargin": true,
            "type": "pie"
           }
          ],
          "scatter": [
           {
            "fillpattern": {
             "fillmode": "overlay",
             "size": 10,
             "solidity": 0.2
            },
            "type": "scatter"
           }
          ],
          "scatter3d": [
           {
            "line": {
             "colorbar": {
              "outlinewidth": 0,
              "ticks": ""
             }
            },
            "marker": {
             "colorbar": {
              "outlinewidth": 0,
              "ticks": ""
             }
            },
            "type": "scatter3d"
           }
          ],
          "scattercarpet": [
           {
            "marker": {
             "colorbar": {
              "outlinewidth": 0,
              "ticks": ""
             }
            },
            "type": "scattercarpet"
           }
          ],
          "scattergeo": [
           {
            "marker": {
             "colorbar": {
              "outlinewidth": 0,
              "ticks": ""
             }
            },
            "type": "scattergeo"
           }
          ],
          "scattergl": [
           {
            "marker": {
             "colorbar": {
              "outlinewidth": 0,
              "ticks": ""
             }
            },
            "type": "scattergl"
           }
          ],
          "scattermapbox": [
           {
            "marker": {
             "colorbar": {
              "outlinewidth": 0,
              "ticks": ""
             }
            },
            "type": "scattermapbox"
           }
          ],
          "scatterpolar": [
           {
            "marker": {
             "colorbar": {
              "outlinewidth": 0,
              "ticks": ""
             }
            },
            "type": "scatterpolar"
           }
          ],
          "scatterpolargl": [
           {
            "marker": {
             "colorbar": {
              "outlinewidth": 0,
              "ticks": ""
             }
            },
            "type": "scatterpolargl"
           }
          ],
          "scatterternary": [
           {
            "marker": {
             "colorbar": {
              "outlinewidth": 0,
              "ticks": ""
             }
            },
            "type": "scatterternary"
           }
          ],
          "surface": [
           {
            "colorbar": {
             "outlinewidth": 0,
             "ticks": ""
            },
            "colorscale": [
             [
              0,
              "#0d0887"
             ],
             [
              0.1111111111111111,
              "#46039f"
             ],
             [
              0.2222222222222222,
              "#7201a8"
             ],
             [
              0.3333333333333333,
              "#9c179e"
             ],
             [
              0.4444444444444444,
              "#bd3786"
             ],
             [
              0.5555555555555556,
              "#d8576b"
             ],
             [
              0.6666666666666666,
              "#ed7953"
             ],
             [
              0.7777777777777778,
              "#fb9f3a"
             ],
             [
              0.8888888888888888,
              "#fdca26"
             ],
             [
              1,
              "#f0f921"
             ]
            ],
            "type": "surface"
           }
          ],
          "table": [
           {
            "cells": {
             "fill": {
              "color": "#EBF0F8"
             },
             "line": {
              "color": "white"
             }
            },
            "header": {
             "fill": {
              "color": "#C8D4E3"
             },
             "line": {
              "color": "white"
             }
            },
            "type": "table"
           }
          ]
         },
         "layout": {
          "annotationdefaults": {
           "arrowcolor": "#2a3f5f",
           "arrowhead": 0,
           "arrowwidth": 1
          },
          "autotypenumbers": "strict",
          "coloraxis": {
           "colorbar": {
            "outlinewidth": 0,
            "ticks": ""
           }
          },
          "colorscale": {
           "diverging": [
            [
             0,
             "#8e0152"
            ],
            [
             0.1,
             "#c51b7d"
            ],
            [
             0.2,
             "#de77ae"
            ],
            [
             0.3,
             "#f1b6da"
            ],
            [
             0.4,
             "#fde0ef"
            ],
            [
             0.5,
             "#f7f7f7"
            ],
            [
             0.6,
             "#e6f5d0"
            ],
            [
             0.7,
             "#b8e186"
            ],
            [
             0.8,
             "#7fbc41"
            ],
            [
             0.9,
             "#4d9221"
            ],
            [
             1,
             "#276419"
            ]
           ],
           "sequential": [
            [
             0,
             "#0d0887"
            ],
            [
             0.1111111111111111,
             "#46039f"
            ],
            [
             0.2222222222222222,
             "#7201a8"
            ],
            [
             0.3333333333333333,
             "#9c179e"
            ],
            [
             0.4444444444444444,
             "#bd3786"
            ],
            [
             0.5555555555555556,
             "#d8576b"
            ],
            [
             0.6666666666666666,
             "#ed7953"
            ],
            [
             0.7777777777777778,
             "#fb9f3a"
            ],
            [
             0.8888888888888888,
             "#fdca26"
            ],
            [
             1,
             "#f0f921"
            ]
           ],
           "sequentialminus": [
            [
             0,
             "#0d0887"
            ],
            [
             0.1111111111111111,
             "#46039f"
            ],
            [
             0.2222222222222222,
             "#7201a8"
            ],
            [
             0.3333333333333333,
             "#9c179e"
            ],
            [
             0.4444444444444444,
             "#bd3786"
            ],
            [
             0.5555555555555556,
             "#d8576b"
            ],
            [
             0.6666666666666666,
             "#ed7953"
            ],
            [
             0.7777777777777778,
             "#fb9f3a"
            ],
            [
             0.8888888888888888,
             "#fdca26"
            ],
            [
             1,
             "#f0f921"
            ]
           ]
          },
          "colorway": [
           "#636efa",
           "#EF553B",
           "#00cc96",
           "#ab63fa",
           "#FFA15A",
           "#19d3f3",
           "#FF6692",
           "#B6E880",
           "#FF97FF",
           "#FECB52"
          ],
          "font": {
           "color": "#2a3f5f"
          },
          "geo": {
           "bgcolor": "white",
           "lakecolor": "white",
           "landcolor": "#E5ECF6",
           "showlakes": true,
           "showland": true,
           "subunitcolor": "white"
          },
          "hoverlabel": {
           "align": "left"
          },
          "hovermode": "closest",
          "mapbox": {
           "style": "light"
          },
          "paper_bgcolor": "white",
          "plot_bgcolor": "#E5ECF6",
          "polar": {
           "angularaxis": {
            "gridcolor": "white",
            "linecolor": "white",
            "ticks": ""
           },
           "bgcolor": "#E5ECF6",
           "radialaxis": {
            "gridcolor": "white",
            "linecolor": "white",
            "ticks": ""
           }
          },
          "scene": {
           "xaxis": {
            "backgroundcolor": "#E5ECF6",
            "gridcolor": "white",
            "gridwidth": 2,
            "linecolor": "white",
            "showbackground": true,
            "ticks": "",
            "zerolinecolor": "white"
           },
           "yaxis": {
            "backgroundcolor": "#E5ECF6",
            "gridcolor": "white",
            "gridwidth": 2,
            "linecolor": "white",
            "showbackground": true,
            "ticks": "",
            "zerolinecolor": "white"
           },
           "zaxis": {
            "backgroundcolor": "#E5ECF6",
            "gridcolor": "white",
            "gridwidth": 2,
            "linecolor": "white",
            "showbackground": true,
            "ticks": "",
            "zerolinecolor": "white"
           }
          },
          "shapedefaults": {
           "line": {
            "color": "#2a3f5f"
           }
          },
          "ternary": {
           "aaxis": {
            "gridcolor": "white",
            "linecolor": "white",
            "ticks": ""
           },
           "baxis": {
            "gridcolor": "white",
            "linecolor": "white",
            "ticks": ""
           },
           "bgcolor": "#E5ECF6",
           "caxis": {
            "gridcolor": "white",
            "linecolor": "white",
            "ticks": ""
           }
          },
          "title": {
           "x": 0.05
          },
          "xaxis": {
           "automargin": true,
           "gridcolor": "white",
           "linecolor": "white",
           "ticks": "",
           "title": {
            "standoff": 15
           },
           "zerolinecolor": "white",
           "zerolinewidth": 2
          },
          "yaxis": {
           "automargin": true,
           "gridcolor": "white",
           "linecolor": "white",
           "ticks": "",
           "title": {
            "standoff": 15
           },
           "zerolinecolor": "white",
           "zerolinewidth": 2
          }
         }
        }
       }
      },
      "text/html": [
       "<div>                            <div id=\"9cf81878-7877-47de-8fe9-ba0190dd1d3e\" class=\"plotly-graph-div\" style=\"height:525px; width:100%;\"></div>            <script type=\"text/javascript\">                require([\"plotly\"], function(Plotly) {                    window.PLOTLYENV=window.PLOTLYENV || {};                                    if (document.getElementById(\"9cf81878-7877-47de-8fe9-ba0190dd1d3e\")) {                    Plotly.newPlot(                        \"9cf81878-7877-47de-8fe9-ba0190dd1d3e\",                        [{\"x\":[7419,4593,3734,3539],\"y\":[\"MainScreenAppear\",\"OffersScreenAppear\",\"CartScreenAppear\",\"PaymentScreenSuccessful\"],\"type\":\"funnel\"}],                        {\"template\":{\"data\":{\"histogram2dcontour\":[{\"type\":\"histogram2dcontour\",\"colorbar\":{\"outlinewidth\":0,\"ticks\":\"\"},\"colorscale\":[[0.0,\"#0d0887\"],[0.1111111111111111,\"#46039f\"],[0.2222222222222222,\"#7201a8\"],[0.3333333333333333,\"#9c179e\"],[0.4444444444444444,\"#bd3786\"],[0.5555555555555556,\"#d8576b\"],[0.6666666666666666,\"#ed7953\"],[0.7777777777777778,\"#fb9f3a\"],[0.8888888888888888,\"#fdca26\"],[1.0,\"#f0f921\"]]}],\"choropleth\":[{\"type\":\"choropleth\",\"colorbar\":{\"outlinewidth\":0,\"ticks\":\"\"}}],\"histogram2d\":[{\"type\":\"histogram2d\",\"colorbar\":{\"outlinewidth\":0,\"ticks\":\"\"},\"colorscale\":[[0.0,\"#0d0887\"],[0.1111111111111111,\"#46039f\"],[0.2222222222222222,\"#7201a8\"],[0.3333333333333333,\"#9c179e\"],[0.4444444444444444,\"#bd3786\"],[0.5555555555555556,\"#d8576b\"],[0.6666666666666666,\"#ed7953\"],[0.7777777777777778,\"#fb9f3a\"],[0.8888888888888888,\"#fdca26\"],[1.0,\"#f0f921\"]]}],\"heatmap\":[{\"type\":\"heatmap\",\"colorbar\":{\"outlinewidth\":0,\"ticks\":\"\"},\"colorscale\":[[0.0,\"#0d0887\"],[0.1111111111111111,\"#46039f\"],[0.2222222222222222,\"#7201a8\"],[0.3333333333333333,\"#9c179e\"],[0.4444444444444444,\"#bd3786\"],[0.5555555555555556,\"#d8576b\"],[0.6666666666666666,\"#ed7953\"],[0.7777777777777778,\"#fb9f3a\"],[0.8888888888888888,\"#fdca26\"],[1.0,\"#f0f921\"]]}],\"heatmapgl\":[{\"type\":\"heatmapgl\",\"colorbar\":{\"outlinewidth\":0,\"ticks\":\"\"},\"colorscale\":[[0.0,\"#0d0887\"],[0.1111111111111111,\"#46039f\"],[0.2222222222222222,\"#7201a8\"],[0.3333333333333333,\"#9c179e\"],[0.4444444444444444,\"#bd3786\"],[0.5555555555555556,\"#d8576b\"],[0.6666666666666666,\"#ed7953\"],[0.7777777777777778,\"#fb9f3a\"],[0.8888888888888888,\"#fdca26\"],[1.0,\"#f0f921\"]]}],\"contourcarpet\":[{\"type\":\"contourcarpet\",\"colorbar\":{\"outlinewidth\":0,\"ticks\":\"\"}}],\"contour\":[{\"type\":\"contour\",\"colorbar\":{\"outlinewidth\":0,\"ticks\":\"\"},\"colorscale\":[[0.0,\"#0d0887\"],[0.1111111111111111,\"#46039f\"],[0.2222222222222222,\"#7201a8\"],[0.3333333333333333,\"#9c179e\"],[0.4444444444444444,\"#bd3786\"],[0.5555555555555556,\"#d8576b\"],[0.6666666666666666,\"#ed7953\"],[0.7777777777777778,\"#fb9f3a\"],[0.8888888888888888,\"#fdca26\"],[1.0,\"#f0f921\"]]}],\"surface\":[{\"type\":\"surface\",\"colorbar\":{\"outlinewidth\":0,\"ticks\":\"\"},\"colorscale\":[[0.0,\"#0d0887\"],[0.1111111111111111,\"#46039f\"],[0.2222222222222222,\"#7201a8\"],[0.3333333333333333,\"#9c179e\"],[0.4444444444444444,\"#bd3786\"],[0.5555555555555556,\"#d8576b\"],[0.6666666666666666,\"#ed7953\"],[0.7777777777777778,\"#fb9f3a\"],[0.8888888888888888,\"#fdca26\"],[1.0,\"#f0f921\"]]}],\"mesh3d\":[{\"type\":\"mesh3d\",\"colorbar\":{\"outlinewidth\":0,\"ticks\":\"\"}}],\"scatter\":[{\"fillpattern\":{\"fillmode\":\"overlay\",\"size\":10,\"solidity\":0.2},\"type\":\"scatter\"}],\"parcoords\":[{\"type\":\"parcoords\",\"line\":{\"colorbar\":{\"outlinewidth\":0,\"ticks\":\"\"}}}],\"scatterpolargl\":[{\"type\":\"scatterpolargl\",\"marker\":{\"colorbar\":{\"outlinewidth\":0,\"ticks\":\"\"}}}],\"bar\":[{\"error_x\":{\"color\":\"#2a3f5f\"},\"error_y\":{\"color\":\"#2a3f5f\"},\"marker\":{\"line\":{\"color\":\"#E5ECF6\",\"width\":0.5},\"pattern\":{\"fillmode\":\"overlay\",\"size\":10,\"solidity\":0.2}},\"type\":\"bar\"}],\"scattergeo\":[{\"type\":\"scattergeo\",\"marker\":{\"colorbar\":{\"outlinewidth\":0,\"ticks\":\"\"}}}],\"scatterpolar\":[{\"type\":\"scatterpolar\",\"marker\":{\"colorbar\":{\"outlinewidth\":0,\"ticks\":\"\"}}}],\"histogram\":[{\"marker\":{\"pattern\":{\"fillmode\":\"overlay\",\"size\":10,\"solidity\":0.2}},\"type\":\"histogram\"}],\"scattergl\":[{\"type\":\"scattergl\",\"marker\":{\"colorbar\":{\"outlinewidth\":0,\"ticks\":\"\"}}}],\"scatter3d\":[{\"type\":\"scatter3d\",\"line\":{\"colorbar\":{\"outlinewidth\":0,\"ticks\":\"\"}},\"marker\":{\"colorbar\":{\"outlinewidth\":0,\"ticks\":\"\"}}}],\"scattermapbox\":[{\"type\":\"scattermapbox\",\"marker\":{\"colorbar\":{\"outlinewidth\":0,\"ticks\":\"\"}}}],\"scatterternary\":[{\"type\":\"scatterternary\",\"marker\":{\"colorbar\":{\"outlinewidth\":0,\"ticks\":\"\"}}}],\"scattercarpet\":[{\"type\":\"scattercarpet\",\"marker\":{\"colorbar\":{\"outlinewidth\":0,\"ticks\":\"\"}}}],\"carpet\":[{\"aaxis\":{\"endlinecolor\":\"#2a3f5f\",\"gridcolor\":\"white\",\"linecolor\":\"white\",\"minorgridcolor\":\"white\",\"startlinecolor\":\"#2a3f5f\"},\"baxis\":{\"endlinecolor\":\"#2a3f5f\",\"gridcolor\":\"white\",\"linecolor\":\"white\",\"minorgridcolor\":\"white\",\"startlinecolor\":\"#2a3f5f\"},\"type\":\"carpet\"}],\"table\":[{\"cells\":{\"fill\":{\"color\":\"#EBF0F8\"},\"line\":{\"color\":\"white\"}},\"header\":{\"fill\":{\"color\":\"#C8D4E3\"},\"line\":{\"color\":\"white\"}},\"type\":\"table\"}],\"barpolar\":[{\"marker\":{\"line\":{\"color\":\"#E5ECF6\",\"width\":0.5},\"pattern\":{\"fillmode\":\"overlay\",\"size\":10,\"solidity\":0.2}},\"type\":\"barpolar\"}],\"pie\":[{\"automargin\":true,\"type\":\"pie\"}]},\"layout\":{\"autotypenumbers\":\"strict\",\"colorway\":[\"#636efa\",\"#EF553B\",\"#00cc96\",\"#ab63fa\",\"#FFA15A\",\"#19d3f3\",\"#FF6692\",\"#B6E880\",\"#FF97FF\",\"#FECB52\"],\"font\":{\"color\":\"#2a3f5f\"},\"hovermode\":\"closest\",\"hoverlabel\":{\"align\":\"left\"},\"paper_bgcolor\":\"white\",\"plot_bgcolor\":\"#E5ECF6\",\"polar\":{\"bgcolor\":\"#E5ECF6\",\"angularaxis\":{\"gridcolor\":\"white\",\"linecolor\":\"white\",\"ticks\":\"\"},\"radialaxis\":{\"gridcolor\":\"white\",\"linecolor\":\"white\",\"ticks\":\"\"}},\"ternary\":{\"bgcolor\":\"#E5ECF6\",\"aaxis\":{\"gridcolor\":\"white\",\"linecolor\":\"white\",\"ticks\":\"\"},\"baxis\":{\"gridcolor\":\"white\",\"linecolor\":\"white\",\"ticks\":\"\"},\"caxis\":{\"gridcolor\":\"white\",\"linecolor\":\"white\",\"ticks\":\"\"}},\"coloraxis\":{\"colorbar\":{\"outlinewidth\":0,\"ticks\":\"\"}},\"colorscale\":{\"sequential\":[[0.0,\"#0d0887\"],[0.1111111111111111,\"#46039f\"],[0.2222222222222222,\"#7201a8\"],[0.3333333333333333,\"#9c179e\"],[0.4444444444444444,\"#bd3786\"],[0.5555555555555556,\"#d8576b\"],[0.6666666666666666,\"#ed7953\"],[0.7777777777777778,\"#fb9f3a\"],[0.8888888888888888,\"#fdca26\"],[1.0,\"#f0f921\"]],\"sequentialminus\":[[0.0,\"#0d0887\"],[0.1111111111111111,\"#46039f\"],[0.2222222222222222,\"#7201a8\"],[0.3333333333333333,\"#9c179e\"],[0.4444444444444444,\"#bd3786\"],[0.5555555555555556,\"#d8576b\"],[0.6666666666666666,\"#ed7953\"],[0.7777777777777778,\"#fb9f3a\"],[0.8888888888888888,\"#fdca26\"],[1.0,\"#f0f921\"]],\"diverging\":[[0,\"#8e0152\"],[0.1,\"#c51b7d\"],[0.2,\"#de77ae\"],[0.3,\"#f1b6da\"],[0.4,\"#fde0ef\"],[0.5,\"#f7f7f7\"],[0.6,\"#e6f5d0\"],[0.7,\"#b8e186\"],[0.8,\"#7fbc41\"],[0.9,\"#4d9221\"],[1,\"#276419\"]]},\"xaxis\":{\"gridcolor\":\"white\",\"linecolor\":\"white\",\"ticks\":\"\",\"title\":{\"standoff\":15},\"zerolinecolor\":\"white\",\"automargin\":true,\"zerolinewidth\":2},\"yaxis\":{\"gridcolor\":\"white\",\"linecolor\":\"white\",\"ticks\":\"\",\"title\":{\"standoff\":15},\"zerolinecolor\":\"white\",\"automargin\":true,\"zerolinewidth\":2},\"scene\":{\"xaxis\":{\"backgroundcolor\":\"#E5ECF6\",\"gridcolor\":\"white\",\"linecolor\":\"white\",\"showbackground\":true,\"ticks\":\"\",\"zerolinecolor\":\"white\",\"gridwidth\":2},\"yaxis\":{\"backgroundcolor\":\"#E5ECF6\",\"gridcolor\":\"white\",\"linecolor\":\"white\",\"showbackground\":true,\"ticks\":\"\",\"zerolinecolor\":\"white\",\"gridwidth\":2},\"zaxis\":{\"backgroundcolor\":\"#E5ECF6\",\"gridcolor\":\"white\",\"linecolor\":\"white\",\"showbackground\":true,\"ticks\":\"\",\"zerolinecolor\":\"white\",\"gridwidth\":2}},\"shapedefaults\":{\"line\":{\"color\":\"#2a3f5f\"}},\"annotationdefaults\":{\"arrowcolor\":\"#2a3f5f\",\"arrowhead\":0,\"arrowwidth\":1},\"geo\":{\"bgcolor\":\"white\",\"landcolor\":\"#E5ECF6\",\"subunitcolor\":\"white\",\"showland\":true,\"showlakes\":true,\"lakecolor\":\"white\"},\"title\":{\"x\":0.05},\"mapbox\":{\"style\":\"light\"}}}},                        {\"responsive\": true}                    ).then(function(){\n",
       "                            \n",
       "var gd = document.getElementById('9cf81878-7877-47de-8fe9-ba0190dd1d3e');\n",
       "var x = new MutationObserver(function (mutations, observer) {{\n",
       "        var display = window.getComputedStyle(gd).display;\n",
       "        if (!display || display === 'none') {{\n",
       "            console.log([gd, 'removed!']);\n",
       "            Plotly.purge(gd);\n",
       "            observer.disconnect();\n",
       "        }}\n",
       "}});\n",
       "\n",
       "// Listen for the removal of the full notebook cells\n",
       "var notebookContainer = gd.closest('#notebook-container');\n",
       "if (notebookContainer) {{\n",
       "    x.observe(notebookContainer, {childList: true});\n",
       "}}\n",
       "\n",
       "// Listen for the clearing of the current output cell\n",
       "var outputEl = gd.closest('.output');\n",
       "if (outputEl) {{\n",
       "    x.observe(outputEl, {childList: true});\n",
       "}}\n",
       "\n",
       "                        })                };                });            </script>        </div>"
      ]
     },
     "metadata": {},
     "output_type": "display_data"
    }
   ],
   "source": [
    "#Визуализируем воронку\n",
    "fig = go.Figure(go.Funnel(\n",
    "    y = event_data['event_name'],\n",
    "    x = event_data['users']))\n",
    "\n",
    "fig.show()"
   ]
  },
  {
   "cell_type": "markdown",
   "id": "f17fd851",
   "metadata": {},
   "source": [
    "Итак, тогда **путь пользователя** (customer journey map или CJM), разбитый на виды событий, выглядит таким образом:\n",
    "\n",
    "1. Пользователь открывает приложение, отображается главный экран (MainScreenAppear)\n",
    "2. Пользователь видит экран с предлагаемыми ему товарами (вероятно после поиска) (OffersScreenAppear)\n",
    "3. Пользователь открывает корзину с выбранными товарами (CartScreenAppear)\n",
    "4. Пользователь оплачивает товар и попадает в экран с успешной оплатой (PaymentScreenSuccessful)\n"
   ]
  },
  {
   "cell_type": "markdown",
   "id": "9b1aec33",
   "metadata": {},
   "source": [
    "#### Расчет конверсии по воронке"
   ]
  },
  {
   "cell_type": "markdown",
   "id": "421d95e1",
   "metadata": {},
   "source": [
    "По воронке событий посчитаем, какая доля пользователей проходит на следующий шаг воронки (от числа пользователей на предыдущем). Посчитаем отношение числа пользователей одного события к предыдущему. Так мы сможем понять на каком шаге теряется больше всего пользователей и какая доля пользователей доходит от первого события до оплаты.\n"
   ]
  },
  {
   "cell_type": "code",
   "execution_count": null,
   "id": "ad67b558",
   "metadata": {},
   "outputs": [
    {
     "name": "stderr",
     "output_type": "stream",
     "text": [
      "/var/folders/q9/fh4pz5ns2xggjhgj1tgnr94c0000gn/T/ipykernel_40409/2485390046.py:1: SettingWithCopyWarning:\n",
      "\n",
      "\n",
      "A value is trying to be set on a copy of a slice from a DataFrame.\n",
      "Try using .loc[row_indexer,col_indexer] = value instead\n",
      "\n",
      "See the caveats in the documentation: https://pandas.pydata.org/pandas-docs/stable/user_guide/indexing.html#returning-a-view-versus-a-copy\n",
      "\n"
     ]
    },
    {
     "data": {
      "text/html": [
       "<div>\n",
       "<style scoped>\n",
       "    .dataframe tbody tr th:only-of-type {\n",
       "        vertical-align: middle;\n",
       "    }\n",
       "\n",
       "    .dataframe tbody tr th {\n",
       "        vertical-align: top;\n",
       "    }\n",
       "\n",
       "    .dataframe thead th {\n",
       "        text-align: right;\n",
       "    }\n",
       "</style>\n",
       "<table border=\"1\" class=\"dataframe\">\n",
       "  <thead>\n",
       "    <tr style=\"text-align: right;\">\n",
       "      <th></th>\n",
       "      <th>event_name</th>\n",
       "      <th>events</th>\n",
       "      <th>users</th>\n",
       "      <th>users %</th>\n",
       "      <th>conversion %</th>\n",
       "    </tr>\n",
       "  </thead>\n",
       "  <tbody>\n",
       "    <tr>\n",
       "      <th>0</th>\n",
       "      <td>MainScreenAppear</td>\n",
       "      <td>117431</td>\n",
       "      <td>7419</td>\n",
       "      <td>98.47</td>\n",
       "      <td>100.00</td>\n",
       "    </tr>\n",
       "    <tr>\n",
       "      <th>1</th>\n",
       "      <td>OffersScreenAppear</td>\n",
       "      <td>46350</td>\n",
       "      <td>4593</td>\n",
       "      <td>60.96</td>\n",
       "      <td>61.91</td>\n",
       "    </tr>\n",
       "    <tr>\n",
       "      <th>2</th>\n",
       "      <td>CartScreenAppear</td>\n",
       "      <td>42365</td>\n",
       "      <td>3734</td>\n",
       "      <td>49.56</td>\n",
       "      <td>81.30</td>\n",
       "    </tr>\n",
       "    <tr>\n",
       "      <th>3</th>\n",
       "      <td>PaymentScreenSuccessful</td>\n",
       "      <td>34113</td>\n",
       "      <td>3539</td>\n",
       "      <td>46.97</td>\n",
       "      <td>94.78</td>\n",
       "    </tr>\n",
       "  </tbody>\n",
       "</table>\n",
       "</div>"
      ],
      "text/plain": [
       "                event_name  events  users  users %  conversion %\n",
       "0         MainScreenAppear  117431   7419    98.47        100.00\n",
       "1       OffersScreenAppear   46350   4593    60.96         61.91\n",
       "2         CartScreenAppear   42365   3734    49.56         81.30\n",
       "3  PaymentScreenSuccessful   34113   3539    46.97         94.78"
      ]
     },
     "execution_count": 35,
     "metadata": {},
     "output_type": "execute_result"
    }
   ],
   "source": [
    "event_data['conversion %'] = round((100+event_data['users'].pct_change() * 100),2)\n",
    "event_data = event_data.fillna(100)\n",
    "event_data"
   ]
  },
  {
   "cell_type": "code",
   "execution_count": 36,
   "id": "2b474fdd",
   "metadata": {},
   "outputs": [
    {
     "data": {
      "text/html": [
       "<div>\n",
       "<style scoped>\n",
       "    .dataframe tbody tr th:only-of-type {\n",
       "        vertical-align: middle;\n",
       "    }\n",
       "\n",
       "    .dataframe tbody tr th {\n",
       "        vertical-align: top;\n",
       "    }\n",
       "\n",
       "    .dataframe thead th {\n",
       "        text-align: right;\n",
       "    }\n",
       "</style>\n",
       "<table border=\"1\" class=\"dataframe\">\n",
       "  <thead>\n",
       "    <tr style=\"text-align: right;\">\n",
       "      <th></th>\n",
       "      <th>event_name</th>\n",
       "      <th>events</th>\n",
       "      <th>users</th>\n",
       "      <th>users %</th>\n",
       "      <th>conversion %</th>\n",
       "      <th>initial %</th>\n",
       "    </tr>\n",
       "  </thead>\n",
       "  <tbody>\n",
       "    <tr>\n",
       "      <th>0</th>\n",
       "      <td>MainScreenAppear</td>\n",
       "      <td>117431</td>\n",
       "      <td>7419</td>\n",
       "      <td>98.47</td>\n",
       "      <td>100.00</td>\n",
       "      <td>100.00</td>\n",
       "    </tr>\n",
       "    <tr>\n",
       "      <th>1</th>\n",
       "      <td>OffersScreenAppear</td>\n",
       "      <td>46350</td>\n",
       "      <td>4593</td>\n",
       "      <td>60.96</td>\n",
       "      <td>61.91</td>\n",
       "      <td>61.91</td>\n",
       "    </tr>\n",
       "    <tr>\n",
       "      <th>2</th>\n",
       "      <td>CartScreenAppear</td>\n",
       "      <td>42365</td>\n",
       "      <td>3734</td>\n",
       "      <td>49.56</td>\n",
       "      <td>81.30</td>\n",
       "      <td>50.33</td>\n",
       "    </tr>\n",
       "    <tr>\n",
       "      <th>3</th>\n",
       "      <td>PaymentScreenSuccessful</td>\n",
       "      <td>34113</td>\n",
       "      <td>3539</td>\n",
       "      <td>46.97</td>\n",
       "      <td>94.78</td>\n",
       "      <td>47.70</td>\n",
       "    </tr>\n",
       "  </tbody>\n",
       "</table>\n",
       "</div>"
      ],
      "text/plain": [
       "                event_name  events  users  users %  conversion %  initial %\n",
       "0         MainScreenAppear  117431   7419    98.47        100.00     100.00\n",
       "1       OffersScreenAppear   46350   4593    60.96         61.91      61.91\n",
       "2         CartScreenAppear   42365   3734    49.56         81.30      50.33\n",
       "3  PaymentScreenSuccessful   34113   3539    46.97         94.78      47.70"
      ]
     },
     "execution_count": 36,
     "metadata": {},
     "output_type": "execute_result"
    }
   ],
   "source": [
    "event_data['initial %'] = round((event_data['users'] / event_data.loc[0, 'users'])*100, 2)\n",
    "event_data"
   ]
  },
  {
   "cell_type": "markdown",
   "id": "88d56a9b",
   "metadata": {},
   "source": [
    "**Выводы:**\n",
    "\n",
    "- Почти **62% пользователей переходят с главного экрана на экран с предложениями продуктов**. Результат можно было бы интерпретировать как положительный или недостаточный, если бы в условии проекта была описана архитектура мобильного приложения. \n",
    "Обычно в приложениях для заказа продуктов питания пользователь заходит на главный экран, далее проходит в меню с категориями или пишет запрос в строку поиска. После этого обычнно должны выходить предложения продуктов. Так как основная функция самого мобильного приложения - заказ продуктов питания, то сомнительно, что пользователи в лишний раз заходят в него просто посмотреть главный экран. Поэтому 62% - **довольно низкий показатель.**\n",
    "\n",
    "- **На экран корзины переходят 81% от предыдущего шага** с экраном предложений и **50% от главного экрана**. Значит половина пользователей набирают понравившиеся товары в корзину и заходят в нее. **Это хороший показатель.**\n",
    "\n",
    "- **На экран с успешной оплатой переходит 95% от предыдущего шага** с просмотром корзины и **47% от числа пользователей на главном экране. Это отличный результат**, но стоит исследовать, куда уходит оставшиеся 5% - возможно у этих пользователей происходит неуспешная оплата.\n",
    "\n",
    "- **Больше всего пользователей (38%) теряется на шаге от перехода с главного экрана на экран с предложениями товаров**. Могут быть следующие причины:\n",
    "        - Пользователям не понятен или не приятен интерфейс приложения (не могут найти меню, поиск и пр.). Нужно провести UX-экспертизу и проверить всем ли новым пользователям виден онбординг (туториал).   \n",
    "        - Пользователи не находят нужные товары и взамен этому приложение не показывает похожие товары. Вполне может быть, что человек ищет продукт конкретной марки, не находит и уходит из приложения, но потенциально он мог бы заказать и другой похожий товар. Тогда нужно настроить систему рекомендаций.\n",
    "        - Пользователям не подходят цены, условия оплаты, доставки и пр. Это можно выяснить путем опроса.\n",
    "        - В приложении есть технические баги, которые не дают пользователям успешно совершать поиск товаров. Например, если приложение \"выкидывает\", \"зависает\", медленно загружает страницы. Можно проанализировать регионы и типы устройств пользователей, которые теряются на этом шаге, провести тестирование, проанализировать обращения в техподдержку. \n",
    "        \n",
    "- До успешной оплаты заказа доходит почти 48% пользователей, которые были на главной экране. В целом, показатель отличный. По результатам исследования в среднем [конверсия сектора за 2018 год составляла 19%](https://datainsight.ru/Grocery2018) без учёта трафика приложений.  "
   ]
  },
  {
   "cell_type": "markdown",
   "id": "48be7a9c",
   "metadata": {},
   "source": [
    "## A/A/B-тестирование"
   ]
  },
  {
   "cell_type": "markdown",
   "id": "61056c2a",
   "metadata": {},
   "source": [
    "Ранее мы уже проверяли, что у нас есть пользователи на все три экспериментальные группы:\n",
    "\n",
    "246, 247 - две контрольные группы A\n",
    "248 - экспериментальная группа B"
   ]
  },
  {
   "cell_type": "code",
   "execution_count": 37,
   "id": "37612e93",
   "metadata": {},
   "outputs": [
    {
     "data": {
      "text/html": [
       "<div>\n",
       "<style scoped>\n",
       "    .dataframe tbody tr th:only-of-type {\n",
       "        vertical-align: middle;\n",
       "    }\n",
       "\n",
       "    .dataframe tbody tr th {\n",
       "        vertical-align: top;\n",
       "    }\n",
       "\n",
       "    .dataframe thead th {\n",
       "        text-align: right;\n",
       "    }\n",
       "</style>\n",
       "<table border=\"1\" class=\"dataframe\">\n",
       "  <thead>\n",
       "    <tr style=\"text-align: right;\">\n",
       "      <th></th>\n",
       "      <th>device_id_hash</th>\n",
       "    </tr>\n",
       "    <tr>\n",
       "      <th>exp_id</th>\n",
       "      <th></th>\n",
       "    </tr>\n",
       "  </thead>\n",
       "  <tbody>\n",
       "    <tr>\n",
       "      <th>246</th>\n",
       "      <td>2484</td>\n",
       "    </tr>\n",
       "    <tr>\n",
       "      <th>247</th>\n",
       "      <td>2513</td>\n",
       "    </tr>\n",
       "    <tr>\n",
       "      <th>248</th>\n",
       "      <td>2537</td>\n",
       "    </tr>\n",
       "    <tr>\n",
       "      <th>246+247</th>\n",
       "      <td>4997</td>\n",
       "    </tr>\n",
       "  </tbody>\n",
       "</table>\n",
       "</div>"
      ],
      "text/plain": [
       "         device_id_hash\n",
       "exp_id                 \n",
       "246                2484\n",
       "247                2513\n",
       "248                2537\n",
       "246+247            4997"
      ]
     },
     "execution_count": 37,
     "metadata": {},
     "output_type": "execute_result"
    }
   ],
   "source": [
    "#Распределение уникальных пользователей по видам групп\n",
    "exp_groups = actual_data.groupby('exp_id').agg({'device_id_hash':'nunique'}).reset_index()\n",
    "#Добавляем столбец с объединенной контрольной группой\n",
    "exp_groups.loc[3] = ['246+247', 4997]\n",
    "exp_groups = exp_groups.set_index(exp_groups.columns[0])\n",
    "exp_groups"
   ]
  },
  {
   "cell_type": "code",
   "execution_count": 38,
   "id": "dc4cd58c",
   "metadata": {},
   "outputs": [
    {
     "data": {
      "text/html": [
       "<div>\n",
       "<style scoped>\n",
       "    .dataframe tbody tr th:only-of-type {\n",
       "        vertical-align: middle;\n",
       "    }\n",
       "\n",
       "    .dataframe tbody tr th {\n",
       "        vertical-align: top;\n",
       "    }\n",
       "\n",
       "    .dataframe thead th {\n",
       "        text-align: right;\n",
       "    }\n",
       "</style>\n",
       "<table border=\"1\" class=\"dataframe\">\n",
       "  <thead>\n",
       "    <tr style=\"text-align: right;\">\n",
       "      <th>exp_id</th>\n",
       "      <th>246</th>\n",
       "      <th>247</th>\n",
       "      <th>248</th>\n",
       "    </tr>\n",
       "    <tr>\n",
       "      <th>event_name</th>\n",
       "      <th></th>\n",
       "      <th></th>\n",
       "      <th></th>\n",
       "    </tr>\n",
       "  </thead>\n",
       "  <tbody>\n",
       "    <tr>\n",
       "      <th>MainScreenAppear</th>\n",
       "      <td>2450</td>\n",
       "      <td>2476</td>\n",
       "      <td>2493</td>\n",
       "    </tr>\n",
       "    <tr>\n",
       "      <th>OffersScreenAppear</th>\n",
       "      <td>1542</td>\n",
       "      <td>1520</td>\n",
       "      <td>1531</td>\n",
       "    </tr>\n",
       "    <tr>\n",
       "      <th>CartScreenAppear</th>\n",
       "      <td>1266</td>\n",
       "      <td>1238</td>\n",
       "      <td>1230</td>\n",
       "    </tr>\n",
       "    <tr>\n",
       "      <th>PaymentScreenSuccessful</th>\n",
       "      <td>1200</td>\n",
       "      <td>1158</td>\n",
       "      <td>1181</td>\n",
       "    </tr>\n",
       "    <tr>\n",
       "      <th>Tutorial</th>\n",
       "      <td>278</td>\n",
       "      <td>283</td>\n",
       "      <td>279</td>\n",
       "    </tr>\n",
       "  </tbody>\n",
       "</table>\n",
       "</div>"
      ],
      "text/plain": [
       "exp_id                    246   247   248\n",
       "event_name                               \n",
       "MainScreenAppear         2450  2476  2493\n",
       "OffersScreenAppear       1542  1520  1531\n",
       "CartScreenAppear         1266  1238  1230\n",
       "PaymentScreenSuccessful  1200  1158  1181\n",
       "Tutorial                  278   283   279"
      ]
     },
     "execution_count": 38,
     "metadata": {},
     "output_type": "execute_result"
    }
   ],
   "source": [
    "#Создадим таблицу с количеством пользователей по видами событий в разбивке по группам\n",
    "event_groups = actual_data.pivot_table(\n",
    "    index='event_name', columns='exp_id', values='device_id_hash', aggfunc='nunique').sort_values(246, ascending=False)\n",
    "event_groups"
   ]
  },
  {
   "cell_type": "code",
   "execution_count": 39,
   "id": "4e71008f",
   "metadata": {},
   "outputs": [
    {
     "data": {
      "text/html": [
       "<div>\n",
       "<style scoped>\n",
       "    .dataframe tbody tr th:only-of-type {\n",
       "        vertical-align: middle;\n",
       "    }\n",
       "\n",
       "    .dataframe tbody tr th {\n",
       "        vertical-align: top;\n",
       "    }\n",
       "\n",
       "    .dataframe thead th {\n",
       "        text-align: right;\n",
       "    }\n",
       "</style>\n",
       "<table border=\"1\" class=\"dataframe\">\n",
       "  <thead>\n",
       "    <tr style=\"text-align: right;\">\n",
       "      <th>exp_id</th>\n",
       "      <th>246</th>\n",
       "      <th>247</th>\n",
       "      <th>248</th>\n",
       "    </tr>\n",
       "    <tr>\n",
       "      <th>event_name</th>\n",
       "      <th></th>\n",
       "      <th></th>\n",
       "      <th></th>\n",
       "    </tr>\n",
       "  </thead>\n",
       "  <tbody>\n",
       "    <tr>\n",
       "      <th>MainScreenAppear</th>\n",
       "      <td>2450</td>\n",
       "      <td>2476</td>\n",
       "      <td>2493</td>\n",
       "    </tr>\n",
       "    <tr>\n",
       "      <th>OffersScreenAppear</th>\n",
       "      <td>1542</td>\n",
       "      <td>1520</td>\n",
       "      <td>1531</td>\n",
       "    </tr>\n",
       "    <tr>\n",
       "      <th>CartScreenAppear</th>\n",
       "      <td>1266</td>\n",
       "      <td>1238</td>\n",
       "      <td>1230</td>\n",
       "    </tr>\n",
       "    <tr>\n",
       "      <th>PaymentScreenSuccessful</th>\n",
       "      <td>1200</td>\n",
       "      <td>1158</td>\n",
       "      <td>1181</td>\n",
       "    </tr>\n",
       "  </tbody>\n",
       "</table>\n",
       "</div>"
      ],
      "text/plain": [
       "exp_id                    246   247   248\n",
       "event_name                               \n",
       "MainScreenAppear         2450  2476  2493\n",
       "OffersScreenAppear       1542  1520  1531\n",
       "CartScreenAppear         1266  1238  1230\n",
       "PaymentScreenSuccessful  1200  1158  1181"
      ]
     },
     "execution_count": 39,
     "metadata": {},
     "output_type": "execute_result"
    }
   ],
   "source": [
    "#Убираем из воронки вид события Tutorial\n",
    "event_groups = event_groups.drop(['Tutorial'], axis = 0)\n",
    "event_groups"
   ]
  },
  {
   "cell_type": "code",
   "execution_count": 40,
   "id": "b782f19a",
   "metadata": {},
   "outputs": [
    {
     "data": {
      "text/html": [
       "<div>\n",
       "<style scoped>\n",
       "    .dataframe tbody tr th:only-of-type {\n",
       "        vertical-align: middle;\n",
       "    }\n",
       "\n",
       "    .dataframe tbody tr th {\n",
       "        vertical-align: top;\n",
       "    }\n",
       "\n",
       "    .dataframe thead th {\n",
       "        text-align: right;\n",
       "    }\n",
       "</style>\n",
       "<table border=\"1\" class=\"dataframe\">\n",
       "  <thead>\n",
       "    <tr style=\"text-align: right;\">\n",
       "      <th>exp_id</th>\n",
       "      <th>246</th>\n",
       "      <th>247</th>\n",
       "      <th>248</th>\n",
       "      <th>246+247</th>\n",
       "    </tr>\n",
       "    <tr>\n",
       "      <th>event_name</th>\n",
       "      <th></th>\n",
       "      <th></th>\n",
       "      <th></th>\n",
       "      <th></th>\n",
       "    </tr>\n",
       "  </thead>\n",
       "  <tbody>\n",
       "    <tr>\n",
       "      <th>MainScreenAppear</th>\n",
       "      <td>2450</td>\n",
       "      <td>2476</td>\n",
       "      <td>2493</td>\n",
       "      <td>4926</td>\n",
       "    </tr>\n",
       "    <tr>\n",
       "      <th>OffersScreenAppear</th>\n",
       "      <td>1542</td>\n",
       "      <td>1520</td>\n",
       "      <td>1531</td>\n",
       "      <td>3062</td>\n",
       "    </tr>\n",
       "    <tr>\n",
       "      <th>CartScreenAppear</th>\n",
       "      <td>1266</td>\n",
       "      <td>1238</td>\n",
       "      <td>1230</td>\n",
       "      <td>2504</td>\n",
       "    </tr>\n",
       "    <tr>\n",
       "      <th>PaymentScreenSuccessful</th>\n",
       "      <td>1200</td>\n",
       "      <td>1158</td>\n",
       "      <td>1181</td>\n",
       "      <td>2358</td>\n",
       "    </tr>\n",
       "  </tbody>\n",
       "</table>\n",
       "</div>"
      ],
      "text/plain": [
       "exp_id                    246   247   248  246+247\n",
       "event_name                                        \n",
       "MainScreenAppear         2450  2476  2493     4926\n",
       "OffersScreenAppear       1542  1520  1531     3062\n",
       "CartScreenAppear         1266  1238  1230     2504\n",
       "PaymentScreenSuccessful  1200  1158  1181     2358"
      ]
     },
     "execution_count": 40,
     "metadata": {},
     "output_type": "execute_result"
    }
   ],
   "source": [
    "#Добавляем столбец с объединенной контрольной группой\n",
    "event_groups['246+247'] = event_groups[246]+event_groups[247]\n",
    "event_groups"
   ]
  },
  {
   "cell_type": "markdown",
   "id": "931033e7",
   "metadata": {},
   "source": [
    "**Сформулируем гипотезы:**\n",
    "\n",
    "- H0 Нулевая гипотеза: Конверсия в обеих группах равна\n",
    "- H1 Альтернативная гипотеза: Конверсия в обеих группах различается\n",
    "\n",
    "**Подготовка к тестированию:**\n",
    "\n",
    "У нас есть четыре события, и в ходе тестирования нужно будет сравнивать конверсии на всех четырех этапах. Значит нам предстоит провести четыре A/A-тестирования (между контрольными группами 246 и 247) и двенадцать A/B-тестирований (отдельно между 2 контрольными группами одной экспериментальной 248 группой, а также между объединенной группой и экспериментальной).\n",
    "\n",
    "Это множественные сравнения, поэтому нужно применить поправку Бонферрони - статистическую значимость нужно \"разбить\" на количество сравнений. Их у нас в сумме 16 единиц, поэтому bonferroni_alpha = alpha / 16."
   ]
  },
  {
   "cell_type": "code",
   "execution_count": 41,
   "id": "7f3842fa",
   "metadata": {},
   "outputs": [],
   "source": [
    "#Зададим формулу проверки статистической значимости между конверсиями \n",
    "#Используем метод Бонферрони для множественного сравнения\n",
    "def z_test(group1, group2, event, alpha): \n",
    "    p1_event = event_groups.loc[event, group1]\n",
    "    p2_event = event_groups.loc[event, group2] \n",
    "    p1_users = exp_groups.loc[group1, 'device_id_hash'] \n",
    "    p2_users = exp_groups.loc[group2, 'device_id_hash'] \n",
    "    p1 = p1_event / p1_users \n",
    "    p2 = p2_event / p2_users \n",
    "    p_combined = (p1_event + p2_event) / (p1_users + p2_users)\n",
    "    difference = p1 - p2 \n",
    "    z_value = difference / mth.sqrt(p_combined * (1 - p_combined) * (1 / p1_users + 1 / p2_users))\n",
    "    distr = stats.norm(0, 1)\n",
    "    p_value = (1 - distr.cdf(abs(z_value))) * 2\n",
    "    \n",
    "    bonferroni_alpha = alpha / 16\n",
    "    \n",
    "    print('Группы {} и {}, событие: {}, p-value: {p_value:.2f}'.format(group1, group2, event, p_value=p_value))\n",
    "    if (p_value < bonferroni_alpha):\n",
    "        print('Отвергаем нулевую гипотезу, конверсия в обеих группах различается')\n",
    "    else:\n",
    "        print('Не получилось отвергнуть нулевую гипотезу, конверсия в обеих группах равна')"
   ]
  },
  {
   "cell_type": "markdown",
   "id": "8069055a",
   "metadata": {},
   "source": [
    "### A/A-тестирование"
   ]
  },
  {
   "cell_type": "markdown",
   "id": "f953c020",
   "metadata": {},
   "source": [
    "Критерии успешного A/A-теста:\n",
    "\n",
    "- Количество пользователей в различных группах различается не более, чем на 1%;\n",
    "- Для всех групп фиксируют и отправляют в системы аналитики данные об одном и том же;\n",
    "- Различие ключевых метрик по группам не превышает 1% и не имеет статистической значимости;\n",
    "- Попавший в одну из групп посетитель остаётся в этой группе до конца теста. Если пользователь видит разные версии исследуемой страницы в ходе одного исследования, неизвестно, какая именно повлияла на его решения. Значит, и результаты такого теста нельзя интерпретировать однозначно.\n",
    "\n",
    "Различие в количестве уникальных пользователей между контрольными группами 246 и 247 примерно равно 1,16% (при округлении до целого - 1%). Пользователей, входящих в разные группы нет. Далее прооверим есть ли различие по видам событий."
   ]
  },
  {
   "cell_type": "markdown",
   "id": "16e71794",
   "metadata": {},
   "source": [
    "**Сформулируем гипотезы:**\n",
    "\n",
    "- H0 Нулевая гипотеза: Конверсия в группах 246 и 247 равна\n",
    "- H1 Альтернативная гипотеза: Конверсия в группах 246 и 247 различается"
   ]
  },
  {
   "cell_type": "code",
   "execution_count": 42,
   "id": "546c3db9",
   "metadata": {},
   "outputs": [
    {
     "name": "stdout",
     "output_type": "stream",
     "text": [
      "Группы 246 и 247, событие: MainScreenAppear, p-value: 0.76\n",
      "Не получилось отвергнуть нулевую гипотезу, конверсия в обеих группах равна\n",
      "\n",
      "Группы 246 и 247, событие: OffersScreenAppear, p-value: 0.25\n",
      "Не получилось отвергнуть нулевую гипотезу, конверсия в обеих группах равна\n",
      "\n",
      "Группы 246 и 247, событие: CartScreenAppear, p-value: 0.23\n",
      "Не получилось отвергнуть нулевую гипотезу, конверсия в обеих группах равна\n",
      "\n",
      "Группы 246 и 247, событие: PaymentScreenSuccessful, p-value: 0.11\n",
      "Не получилось отвергнуть нулевую гипотезу, конверсия в обеих группах равна\n",
      "\n"
     ]
    }
   ],
   "source": [
    "for event in event_groups.index:\n",
    "    z_test(246, 247, event, 0.05)\n",
    "    print()"
   ]
  },
  {
   "cell_type": "markdown",
   "id": "885355af",
   "metadata": {},
   "source": [
    "**Вывод по A/A тестированию:**\n",
    "\n",
    "После сравнения контрольных групп A убедились, что выборка и тест был проведен корректно и между группами нет статистически значимых различий.\n",
    "Контрольные группы 246 и 247 по каждому событию показывают идентичные результаты, нулевую гипотезу отвергнуть не удалось."
   ]
  },
  {
   "cell_type": "markdown",
   "id": "b87d8646",
   "metadata": {},
   "source": [
    "### A/B-тестирование"
   ]
  },
  {
   "cell_type": "markdown",
   "id": "389a8ae1",
   "metadata": {},
   "source": [
    "Приступим к проверке результатов самого эксперимента с заменой шрифта в мобильном приложении."
   ]
  },
  {
   "cell_type": "markdown",
   "id": "7912b44f",
   "metadata": {},
   "source": [
    "Сравним контрольную группу 246 с экспериментальной группой 248. "
   ]
  },
  {
   "cell_type": "markdown",
   "id": "92cca3a0",
   "metadata": {},
   "source": [
    "**Сформулируем гипотезы:**\n",
    "\n",
    "- H0 Нулевая гипотеза: Конверсия в группах 246 и 248 равна\n",
    "- H1 Альтернативная гипотеза: Конверсия в группах 246 и 248 различается"
   ]
  },
  {
   "cell_type": "code",
   "execution_count": 43,
   "id": "79194d33",
   "metadata": {},
   "outputs": [
    {
     "name": "stdout",
     "output_type": "stream",
     "text": [
      "Группы 246 и 248, событие: MainScreenAppear, p-value: 0.29\n",
      "Не получилось отвергнуть нулевую гипотезу, конверсия в обеих группах равна\n",
      "\n",
      "Группы 246 и 248, событие: OffersScreenAppear, p-value: 0.21\n",
      "Не получилось отвергнуть нулевую гипотезу, конверсия в обеих группах равна\n",
      "\n",
      "Группы 246 и 248, событие: CartScreenAppear, p-value: 0.08\n",
      "Не получилось отвергнуть нулевую гипотезу, конверсия в обеих группах равна\n",
      "\n",
      "Группы 246 и 248, событие: PaymentScreenSuccessful, p-value: 0.21\n",
      "Не получилось отвергнуть нулевую гипотезу, конверсия в обеих группах равна\n",
      "\n"
     ]
    }
   ],
   "source": [
    "for event in event_groups.index:\n",
    "    z_test(246, 248, event, 0.05)\n",
    "    print()"
   ]
  },
  {
   "cell_type": "markdown",
   "id": "1baea0b4",
   "metadata": {},
   "source": [
    "Сравним контрольную группу 247 с экспериментальной группой 248. "
   ]
  },
  {
   "cell_type": "markdown",
   "id": "edae6b77",
   "metadata": {},
   "source": [
    "**Сформулируем гипотезы:**\n",
    "\n",
    "- H0 Нулевая гипотеза: Конверсия в группах 247 и 248 равна\n",
    "- H1 Альтернативная гипотеза: Конверсия в группах 247 и 248 различается"
   ]
  },
  {
   "cell_type": "code",
   "execution_count": 44,
   "id": "130a01f7",
   "metadata": {},
   "outputs": [
    {
     "name": "stdout",
     "output_type": "stream",
     "text": [
      "Группы 247 и 248, событие: MainScreenAppear, p-value: 0.46\n",
      "Не получилось отвергнуть нулевую гипотезу, конверсия в обеих группах равна\n",
      "\n",
      "Группы 247 и 248, событие: OffersScreenAppear, p-value: 0.92\n",
      "Не получилось отвергнуть нулевую гипотезу, конверсия в обеих группах равна\n",
      "\n",
      "Группы 247 и 248, событие: CartScreenAppear, p-value: 0.58\n",
      "Не получилось отвергнуть нулевую гипотезу, конверсия в обеих группах равна\n",
      "\n",
      "Группы 247 и 248, событие: PaymentScreenSuccessful, p-value: 0.74\n",
      "Не получилось отвергнуть нулевую гипотезу, конверсия в обеих группах равна\n",
      "\n"
     ]
    }
   ],
   "source": [
    "for event in event_groups.index:\n",
    "    z_test(247, 248, event, 0.05)\n",
    "    print()"
   ]
  },
  {
   "cell_type": "markdown",
   "id": "50f04566",
   "metadata": {},
   "source": [
    "Сравним объединенную контрольную группу 246+247 с экспериментальной группой 248. \n",
    "\n",
    "**Сформулируем гипотезы:**\n",
    "\n",
    "- H0 Нулевая гипотеза: Конверсия в группах 246+247 и 248 равна\n",
    "- H1 Альтернативная гипотеза: Конверсия в группах 246+247 и 248 различается"
   ]
  },
  {
   "cell_type": "code",
   "execution_count": 45,
   "id": "037c02bf",
   "metadata": {},
   "outputs": [
    {
     "name": "stdout",
     "output_type": "stream",
     "text": [
      "Группы 246+247 и 248, событие: MainScreenAppear, p-value: 0.29\n",
      "Не получилось отвергнуть нулевую гипотезу, конверсия в обеих группах равна\n",
      "\n",
      "Группы 246+247 и 248, событие: OffersScreenAppear, p-value: 0.43\n",
      "Не получилось отвергнуть нулевую гипотезу, конверсия в обеих группах равна\n",
      "\n",
      "Группы 246+247 и 248, событие: CartScreenAppear, p-value: 0.18\n",
      "Не получилось отвергнуть нулевую гипотезу, конверсия в обеих группах равна\n",
      "\n",
      "Группы 246+247 и 248, событие: PaymentScreenSuccessful, p-value: 0.60\n",
      "Не получилось отвергнуть нулевую гипотезу, конверсия в обеих группах равна\n",
      "\n"
     ]
    }
   ],
   "source": [
    "for event in event_groups.index:\n",
    "    z_test('246+247', 248, event, 0.05)\n",
    "    print()"
   ]
  },
  {
   "cell_type": "markdown",
   "id": "1e1542d1",
   "metadata": {},
   "source": [
    "**Вывод по A/B тестированию:**\n",
    "\n",
    "Между конверсией между контрольными и экспериментальной группами нет статистически значимых различий во всех случаях. Отвергнуть нулевую гипотезу не получилось.\n",
    "\n",
    "Это значит, что **изменение шрифта в мобильном приложении не влияет на конверсию**."
   ]
  },
  {
   "cell_type": "markdown",
   "id": "929269b7",
   "metadata": {},
   "source": [
    "### Пояснения к проведению тестирования"
   ]
  },
  {
   "cell_type": "markdown",
   "id": "cd01991a",
   "metadata": {},
   "source": [
    "Для проведения тестирования была применена поправка Бонферрони, т.к. мы должны были провести множественные среавнения. В таком случае значение статистической значимости делится на количество сравнений (в нашем случае их было 16 - 4 A/A-тестирования и 12 A/B-тестирований). Уровень значимости alpha был выбран в размере 0.05.\n"
   ]
  },
  {
   "cell_type": "markdown",
   "id": "9f9d3718",
   "metadata": {},
   "source": [
    "## Выводы и рекомендации"
   ]
  },
  {
   "cell_type": "markdown",
   "id": "ee8df3d5",
   "metadata": {},
   "source": [
    "На старте мы имели три датасета с данными о пользователях пазвлекательного мобильного приложения Procrastinate Pro+, привлечённых с 1 мая по 27 октября 2019 года: посещения, покупки и рекламные расходы на привлечение. Данные чистые, без пропусков и дубликатов. \n",
    "\n",
    "**Предобработка данных:**\n",
    "\n",
    "- Названия столбцов перевели на змеиный регистр\n",
    "- Пропуски не выявлены\n",
    "- Формат даты и времени изменен на YYYY.MM.DD hh:mm:ss, добавлен столбец с датой в формате YYYY.MM.DD\n",
    "- Выявлены 413 явных дубликатов, их решено оставить; неявных дубликатов нет\n",
    "\n",
    "**Изучение и проверка данных:**\n",
    "\n",
    "- В среднем на каждого пользователя приходится 32 события, медианное значение - 20 событий. Есть пользователи с аномально большим количеством событий, максимальное количество событий на одного пользователя - 2308. Чаще всего один пользователь прошел через 5 событий. Аномальные значения удалять не будем, так мы можем потерять важные для исследования детали.\n",
    "\n",
    "- Основная часть данных собрана с 01.08.2019 по 07.08.2019, поэтому июльские данные были вырезаны.\n",
    "\n",
    "- У нас есть три группы: 246, 247 - две контрольные группы A, 248 - экспериментальная группа B. На все три группы есть и события, и пользователи. Нет пользователней, попавших в несколько групп сразу.\n",
    "\n",
    "**Исследовательский анализ:**\n",
    "\n",
    "По количеству событий, пользователей, долей пользователей события складываются в такую очередность:\n",
    "\n",
    "1. MainScreenAppear - просмотр главного экрана\n",
    "2. OffersScreenAppear - просмотр предложений\n",
    "3. CartScreenAppear - просмотр корзины\n",
    "4. PaymentScreenSuccessful - успешная оплата\n",
    "5. Tutorial - просмотр обучающей части (онбординг)\n",
    "\n",
    "Этап Tutorial (просмотр обучающей части (онбординг)) вероятно проходят только новые пользователи, он не входит в покупательскую воронку, поэтому его удаляем и не включаем в воронку.\n",
    "\n",
    "Путь пользователя (customer journey map или CJM) в приложении, разбитый на виды событий, выглядит таким образом:\n",
    "\n",
    "1. Пользователь открывает приложение, отображается главный экран (MainScreenAppear)\n",
    "2. Пользователь видит экран с предлагаемыми ему товарами (вероятно после поиска) (OffersScreenAppear)\n",
    "3. Пользователь открывает корзину с выбранными товарами (CartScreenAppear)\n",
    "4. Пользователь оплачивает товар и попадает в экран с успешной оплатой (PaymentScreenSuccessful)\n",
    "\n",
    "- Почти **62% пользователей переходят с главного экрана на экран с предложениями продуктов**. Так как основная функция самого мобильного приложения - заказ продуктов питания, то сомнительно, что пользователи в лишний раз заходят в него просто полистать главный экран. Поэтому 62% - **довольно низкий показатель.**\n",
    "\n",
    "- **На экран корзины переходят 81% от предыдущего шага** с экраном предложений и **50% от главного экрана**. Значит половина пользователей набирают понравившиеся товары в корзину и заходят в нее. **Это хороший показатель.**\n",
    "\n",
    "- **На экран с успешной оплатой переходит 95% от предыдущего шага** с просмотром корзины и **47% от числа пользователей на главном экране. Это отличный результат**, но стоит исследовать, куда уходит оставшиеся 5% - возможно у этих пользователей происходит неуспешная оплата.\n",
    "\n",
    "- **Больше всего пользователей (38%) теряется на шаге от перехода с главного экрана на экран с предложениями товаров**. Могут быть следующие причины:\n",
    "        - Пользователям не понятен или не приятен интерфейс приложения (не могут найти меню, поиск и пр.). Нужно провести UX-экспертизу и проверить всем ли новым пользователям виден онбординг (туториал).   \n",
    "        - Пользователи не находят нужные товары и взамен этому приложение не показывает похожие товары. Вполне может быть, что человек ищет продукт конкретной марки, не находит и уходит из приложения, но потенциально он мог бы заказать и другой похожий товар. Тогда нужно настроить систему рекомендаций.\n",
    "        - Пользователям не подходят цены, условия оплаты, доставки и пр. Это можно выяснить путем опроса.\n",
    "        - В приложении есть технические баги, которые не дают пользователям успешно совершать поиск товаров. Например, если приложение \"выкидывает\", \"зависает\", медленно загружает страницы. Можно проанализировать регионы и типы устройств пользователей, которые теряются на этом шаге, провести тестирование, проанализировать обращения в техподдержку. \n",
    "        \n",
    "- До успешной оплаты заказа доходит почти 48% пользователей, которые были на главной экране. В целом, показатель отличный. По результатам исследования в среднем [конверсия сектора за 2018 год составляла 19%](https://datainsight.ru/Grocery2018) без учёта трафика приложений.  \n",
    "\n",
    "**A/A-тестирование:**\n",
    "\n",
    "После сравнения контрольных групп A убедились, что выборка и тест был проведен корректно и между группами нет статистически значимых различий. Контрольные группы по каждому событию показывают идентичные результаты, нулевую гипотезу отвергнуть не удалось.\n",
    "\n",
    "**Вывод по A/B тестированию:**\n",
    "\n",
    "Между конверсией между контрольными (в т.ч. с объединенной контрольной) и экспериментальной группами нет статистически значимых различий во всех случаях. Отвергнуть нулевую гипотезу не получилось. Это значит, что изменение шрифта в мобильном приложении не влияет на конверсию.\n",
    "\n",
    "**Рекомендации для менеджеров:**\n",
    "\n",
    "1. Эксперимент показал, что замена шрифта в приложении не влияет на метрику конверсии ни на одном из шагов воронки. Значит, шрифт можно менять, не боясь, что это решение будет влиять негативно на конверсию, но и не надеяться, что будет влиять на нее положительно.\n",
    "\n",
    "2. Обратить внимание на отток пользователей, который происходит при переходе от главного экрана на экран с предложениями товаров:\n",
    "        - Следует проанализировать регионы и типы устройств пользователей, которые теряются на этом шаге, провести тестирование, проанализировать обращения в техподдержку. \n",
    "        - Можно провести UX-экспертизу, а также проверить всем ли новым пользователям виден онбординг (туториал).   \n",
    "        - Проверить как работает система рекомендаций и провести опрос пользователей.\n",
    "\n",
    "\n"
   ]
  }
 ],
 "metadata": {
  "ExecuteTimeLog": [
   {
    "duration": 1281,
    "start_time": "2023-01-15T18:10:35.795Z"
   },
   {
    "duration": 722,
    "start_time": "2023-01-15T18:10:37.079Z"
   },
   {
    "duration": 17,
    "start_time": "2023-01-15T18:10:37.803Z"
   },
   {
    "duration": 20,
    "start_time": "2023-01-15T18:10:37.822Z"
   },
   {
    "duration": 3,
    "start_time": "2023-01-15T18:10:37.845Z"
   },
   {
    "duration": 28,
    "start_time": "2023-01-15T18:10:37.850Z"
   },
   {
    "duration": 29,
    "start_time": "2023-01-15T18:10:37.880Z"
   },
   {
    "duration": 137,
    "start_time": "2023-01-15T18:10:37.910Z"
   },
   {
    "duration": 30,
    "start_time": "2023-01-15T18:10:38.049Z"
   },
   {
    "duration": 4,
    "start_time": "2023-01-15T18:10:38.080Z"
   },
   {
    "duration": 12,
    "start_time": "2023-01-15T18:10:38.086Z"
   },
   {
    "duration": 35,
    "start_time": "2023-01-15T18:10:38.099Z"
   },
   {
    "duration": 217,
    "start_time": "2023-01-15T18:10:38.135Z"
   },
   {
    "duration": 5,
    "start_time": "2023-01-15T18:10:38.363Z"
   },
   {
    "duration": 16,
    "start_time": "2023-01-15T18:10:38.370Z"
   },
   {
    "duration": 348,
    "start_time": "2023-01-15T18:10:38.388Z"
   },
   {
    "duration": 9,
    "start_time": "2023-01-15T18:10:38.738Z"
   },
   {
    "duration": 30,
    "start_time": "2023-01-15T18:10:38.748Z"
   },
   {
    "duration": 262,
    "start_time": "2023-01-15T18:10:38.780Z"
   },
   {
    "duration": 7,
    "start_time": "2023-01-15T18:10:39.044Z"
   },
   {
    "duration": 35,
    "start_time": "2023-01-15T18:10:39.052Z"
   },
   {
    "duration": 7,
    "start_time": "2023-01-15T18:10:39.090Z"
   },
   {
    "duration": 47,
    "start_time": "2023-01-15T18:10:39.100Z"
   },
   {
    "duration": 50,
    "start_time": "2023-01-15T18:10:39.149Z"
   },
   {
    "duration": 21,
    "start_time": "2023-01-15T18:10:39.200Z"
   },
   {
    "duration": 193,
    "start_time": "2023-01-15T18:10:39.223Z"
   },
   {
    "duration": 213,
    "start_time": "2023-01-15T18:10:39.417Z"
   },
   {
    "duration": 173,
    "start_time": "2023-01-15T18:10:39.632Z"
   },
   {
    "duration": 11,
    "start_time": "2023-01-15T18:10:39.807Z"
   },
   {
    "duration": 13,
    "start_time": "2023-01-15T18:10:39.819Z"
   },
   {
    "duration": 13,
    "start_time": "2023-01-15T18:10:39.833Z"
   },
   {
    "duration": 9,
    "start_time": "2023-01-15T18:10:39.847Z"
   },
   {
    "duration": 42,
    "start_time": "2023-01-15T18:10:39.878Z"
   },
   {
    "duration": 157,
    "start_time": "2023-01-15T18:10:39.922Z"
   },
   {
    "duration": 5,
    "start_time": "2023-01-15T18:10:40.081Z"
   },
   {
    "duration": 11,
    "start_time": "2023-01-15T18:10:40.088Z"
   },
   {
    "duration": 11,
    "start_time": "2023-01-15T18:10:40.100Z"
   },
   {
    "duration": 10,
    "start_time": "2023-01-15T18:10:40.112Z"
   },
   {
    "duration": 14,
    "start_time": "2023-01-15T18:10:40.123Z"
   }
  ],
  "kernelspec": {
   "display_name": "Python 3 (ipykernel)",
   "language": "python",
   "name": "python3"
  },
  "language_info": {
   "codemirror_mode": {
    "name": "ipython",
    "version": 3
   },
   "file_extension": ".py",
   "mimetype": "text/x-python",
   "name": "python",
   "nbconvert_exporter": "python",
   "pygments_lexer": "ipython3",
   "version": "3.9.13"
  },
  "toc": {
   "base_numbering": 1,
   "nav_menu": {},
   "number_sections": false,
   "sideBar": true,
   "skip_h1_title": false,
   "title_cell": "Table of Contents",
   "title_sidebar": "Contents",
   "toc_cell": true,
   "toc_position": {
    "height": "calc(100% - 180px)",
    "left": "10px",
    "top": "150px",
    "width": "214.56px"
   },
   "toc_section_display": true,
   "toc_window_display": true
  }
 },
 "nbformat": 4,
 "nbformat_minor": 5
}
